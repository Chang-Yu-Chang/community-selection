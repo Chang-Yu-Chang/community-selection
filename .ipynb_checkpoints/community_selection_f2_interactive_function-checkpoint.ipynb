{
 "cells": [
  {
   "cell_type": "code",
   "execution_count": 1,
   "metadata": {},
   "outputs": [],
   "source": [
    "# Community simulator package\n",
    "from IPython.display import Image\n",
    "from community_simulator import *\n",
    "from community_simulator.usertools import *\n",
    "from community_simulator.visualization import *\n",
    "import seaborn as sns\n",
    "import matplotlib.pyplot as plt\n",
    "from matplotlib.backends import backend_pdf as bpdf\n",
    "import numpy as np\n",
    "import scipy as sp\n",
    "colors = sns.color_palette()\n",
    "%matplotlib inline\n",
    "\n",
    "# Community selection package\n",
    "from community_selection import *\n",
    "from community_selection.A_experiment_functions import *\n",
    "from community_selection.B_community_phenotypes import *\n",
    "from community_selection.C_selection_algorithms import *\n",
    "from community_selection.D_migration_algorithms import *"
   ]
  },
  {
   "cell_type": "code",
   "execution_count": 2,
   "metadata": {},
   "outputs": [
    {
     "data": {
      "text/html": [
       "<div>\n",
       "<style scoped>\n",
       "    .dataframe tbody tr th:only-of-type {\n",
       "        vertical-align: middle;\n",
       "    }\n",
       "\n",
       "    .dataframe tbody tr th {\n",
       "        vertical-align: top;\n",
       "    }\n",
       "\n",
       "    .dataframe thead th {\n",
       "        text-align: right;\n",
       "    }\n",
       "</style>\n",
       "<table border=\"1\" class=\"dataframe\">\n",
       "  <thead>\n",
       "    <tr style=\"text-align: right;\">\n",
       "      <th></th>\n",
       "      <th>AlgorithmType</th>\n",
       "      <th>AlgorithmName</th>\n",
       "    </tr>\n",
       "  </thead>\n",
       "  <tbody>\n",
       "    <tr>\n",
       "      <th>0</th>\n",
       "      <td>community_phenotype</td>\n",
       "      <td>f1_additive</td>\n",
       "    </tr>\n",
       "    <tr>\n",
       "      <th>1</th>\n",
       "      <td>community_phenotype</td>\n",
       "      <td>f2_interaction</td>\n",
       "    </tr>\n",
       "    <tr>\n",
       "      <th>2</th>\n",
       "      <td>community_phenotype</td>\n",
       "      <td>f3_additive_binary</td>\n",
       "    </tr>\n",
       "    <tr>\n",
       "      <th>3</th>\n",
       "      <td>community_phenotype</td>\n",
       "      <td>f4_interaction_binary</td>\n",
       "    </tr>\n",
       "    <tr>\n",
       "      <th>4</th>\n",
       "      <td>community_phenotype</td>\n",
       "      <td>f5_invasion_growth</td>\n",
       "    </tr>\n",
       "    <tr>\n",
       "      <th>5</th>\n",
       "      <td>community_phenotype</td>\n",
       "      <td>f6_resident_growth</td>\n",
       "    </tr>\n",
       "    <tr>\n",
       "      <th>0</th>\n",
       "      <td>selection_algorithm</td>\n",
       "      <td>no_selection</td>\n",
       "    </tr>\n",
       "    <tr>\n",
       "      <th>1</th>\n",
       "      <td>selection_algorithm</td>\n",
       "      <td>select_top25percent</td>\n",
       "    </tr>\n",
       "    <tr>\n",
       "      <th>2</th>\n",
       "      <td>selection_algorithm</td>\n",
       "      <td>select_top10percent</td>\n",
       "    </tr>\n",
       "    <tr>\n",
       "      <th>3</th>\n",
       "      <td>selection_algorithm</td>\n",
       "      <td>select_bottom25percent</td>\n",
       "    </tr>\n",
       "    <tr>\n",
       "      <th>4</th>\n",
       "      <td>selection_algorithm</td>\n",
       "      <td>pool_top25percent</td>\n",
       "    </tr>\n",
       "    <tr>\n",
       "      <th>5</th>\n",
       "      <td>selection_algorithm</td>\n",
       "      <td>pair_top</td>\n",
       "    </tr>\n",
       "    <tr>\n",
       "      <th>6</th>\n",
       "      <td>selection_algorithm</td>\n",
       "      <td>direct_selection_select</td>\n",
       "    </tr>\n",
       "    <tr>\n",
       "      <th>0</th>\n",
       "      <td>migration_algorithm</td>\n",
       "      <td>no_migration</td>\n",
       "    </tr>\n",
       "    <tr>\n",
       "      <th>1</th>\n",
       "      <td>migration_algorithm</td>\n",
       "      <td>direct_selection_migrate</td>\n",
       "    </tr>\n",
       "    <tr>\n",
       "      <th>2</th>\n",
       "      <td>migration_algorithm</td>\n",
       "      <td>migrate_half</td>\n",
       "    </tr>\n",
       "    <tr>\n",
       "      <th>3</th>\n",
       "      <td>migration_algorithm</td>\n",
       "      <td>migrate_random</td>\n",
       "    </tr>\n",
       "  </tbody>\n",
       "</table>\n",
       "</div>"
      ],
      "text/plain": [
       "         AlgorithmType             AlgorithmName\n",
       "0  community_phenotype               f1_additive\n",
       "1  community_phenotype            f2_interaction\n",
       "2  community_phenotype        f3_additive_binary\n",
       "3  community_phenotype     f4_interaction_binary\n",
       "4  community_phenotype        f5_invasion_growth\n",
       "5  community_phenotype        f6_resident_growth\n",
       "0  selection_algorithm              no_selection\n",
       "1  selection_algorithm       select_top25percent\n",
       "2  selection_algorithm       select_top10percent\n",
       "3  selection_algorithm    select_bottom25percent\n",
       "4  selection_algorithm         pool_top25percent\n",
       "5  selection_algorithm                  pair_top\n",
       "6  selection_algorithm   direct_selection_select\n",
       "0  migration_algorithm              no_migration\n",
       "1  migration_algorithm  direct_selection_migrate\n",
       "2  migration_algorithm              migrate_half\n",
       "3  migration_algorithm            migrate_random"
      ]
     },
     "execution_count": 2,
     "metadata": {},
     "output_type": "execute_result"
    }
   ],
   "source": [
    "make_algorithm_library()"
   ]
  },
  {
   "cell_type": "markdown",
   "metadata": {},
   "source": [
    "Parameters that determine the universe"
   ]
  },
  {
   "cell_type": "code",
   "execution_count": 3,
   "metadata": {},
   "outputs": [],
   "source": [
    "# Make dynanmics by default we will use the microbial consumer resource model\n",
    "def dNdt(N,R,params):\n",
    "    return MakeConsumerDynamics(assumptions)(N,R,params)\n",
    "def dRdt(N,R,params):\n",
    "    return MakeResourceDynamics(assumptions)(N,R,params)\n",
    "dynamics = [dNdt,dRdt]\n",
    "\n",
    "# Universal parameters\n",
    "## Thehse are the default functions from community-simulator\n",
    "assumptions = a_default.copy() # Start with default parameters\n",
    "assumptions = {\n",
    "    'sampling':'Binary', #{'Gaussian','Binary','Gamma'} specifies choice of sampling algorithm    \n",
    "    'SA': 60*np.ones(3), #Number of species in each specialist family (here, 3 families of 60 species)\n",
    "    'MA': 30*np.ones(3), #Number of resources in each class \n",
    "    'Sgen': 30, #Number of generalist species (unbiased sampling over alll resource classes)\n",
    "    'muc': 10, #Mean sum of consumption rates (used in all models)\n",
    "    'sigc': 3, #Standard deviation of sum of consumption rates for Gaussian and Gamma models\n",
    "    'q': 0.0, #Preference strength of specialist families (0 for generalist and 1 for specialist)\n",
    "    'c0':0.0, #Sum of background consumption rates in binary model\n",
    "    'c1':1, #Specific consumption rate in binary model\n",
    "    'l':0.8, #Leakage fraction\n",
    "    'fs':0.45, #Fraction of secretion flux with same resource type\n",
    "    'fw':0.45, #Fraction of secretion flux to 'waste' resource\n",
    "    'sparsity':0.2, #Effective sparsity of metabolic matrix (between 0 and 1)\n",
    "    'n_wells':96, #Number of independent wells\n",
    "    'S':100, #Number of species per well (randomly sampled from the pool of size Stot = sum(SA) + Sgen)\n",
    "    'food':0, #index of food source (when a single resource is supplied externally)\n",
    "    'R0_food':1000, #unperturbed fixed point for supplied food\n",
    "    'regulation':'independent', #metabolic regulation (see dRdt)\n",
    "    'response':'type I', #functional response (see dRdt)\n",
    "    'supply':'off' #resource supply (see dRdt)\n",
    "}\n",
    "\n",
    "## Update parameters for community-selection\n",
    "assumptions.update({\n",
    "    \"n_wells\": 24,\n",
    "    \"c1\": 0.01, #Rescale uptake rate part 1. This is needed to avoid numerical errors that slow down the simulations\n",
    "    \"muc\": 0.1, # Rescale uptake part 2\n",
    "    \"m\": 0, # Mortality\n",
    "    \"scale\": 10**9,  #scale is a conversion factor specifying the number of individual microbial cells present when N = 1.\n",
    "    \"sigma\" : 1, # Standard deviation for drawing specifc speices/interaction function\n",
    "    \"alpha\": 1, # Scaling factor between species- and interaction-specific function variances\n",
    "    \"response\": \"type I\"\n",
    "})\n",
    "\n",
    "\n",
    "\n",
    "# Prepare experiment setup in this universe\n",
    "params, species_pool, species_function, interaction_function = prepare_experiment(assumptions, seed = 1)\n",
    "\n",
    "## Simulation parameters\n",
    "params_simulation = {\n",
    "    \"n_propagation\": 8, # Length of propagation, or hours within a growth cycle\n",
    "    \"n_transfer\": 20, # Number of transfer, or number of passage\n",
    "    \"dilution\": 1/125, # Dilution factor at every transfer\n",
    "    \"n_inoc\": 128,  #Number of cells sampled from the regional species at start\n",
    "    \"pool\": species_pool, \n",
    "    \"species_function\": species_function,\n",
    "    \"interaction_function\": interaction_function,\n",
    "    \"selected_function\": \"f2_interaction\"\n",
    "}\n"
   ]
  },
  {
   "cell_type": "markdown",
   "metadata": {},
   "source": [
    "# Example selection algorithms\n",
    "\n",
    "The dictionary `params_algorithm` takes three lists:\n",
    "\n",
    "- community_phenotype\n",
    "- selection_algorithm\n",
    "- migration_algorithm\n",
    "\n",
    "The lengh of each algorithm list must have the same number of experimental transfers"
   ]
  },
  {
   "cell_type": "markdown",
   "metadata": {},
   "source": [
    "## Simple screening"
   ]
  },
  {
   "cell_type": "code",
   "execution_count": 4,
   "metadata": {},
   "outputs": [
    {
     "name": "stdout",
     "output_type": "stream",
     "text": [
      "\n",
      "Algorithm: simple_screening\n",
      "\n",
      "\n",
      " transfer community_phenotype selection_algorithm migration_algorithm\n",
      "        1      f2_interaction        no_selection        no_migration\n",
      "        2      f2_interaction        no_selection        no_migration\n",
      "        3      f2_interaction        no_selection        no_migration\n",
      "        4      f2_interaction        no_selection        no_migration\n",
      "        5      f2_interaction        no_selection        no_migration\n",
      "        6      f2_interaction        no_selection        no_migration\n",
      "        7      f2_interaction        no_selection        no_migration\n",
      "        8      f2_interaction        no_selection        no_migration\n",
      "        9      f2_interaction        no_selection        no_migration\n",
      "       10      f2_interaction        no_selection        no_migration\n",
      "       11      f2_interaction        no_selection        no_migration\n",
      "       12      f2_interaction        no_selection        no_migration\n",
      "       13      f2_interaction        no_selection        no_migration\n",
      "       14      f2_interaction        no_selection        no_migration\n",
      "       15      f2_interaction        no_selection        no_migration\n",
      "       16      f2_interaction        no_selection        no_migration\n",
      "       17      f2_interaction        no_selection        no_migration\n",
      "       18      f2_interaction        no_selection        no_migration\n",
      "       19      f2_interaction        no_selection        no_migration\n",
      "       20      f2_interaction        no_selection        no_migration\n",
      "\n",
      "Generating initial plate\n",
      "\n",
      "Start propogation\n",
      "Transfer 1\n",
      "Transfer 2\n",
      "Transfer 3\n",
      "Transfer 4\n",
      "Transfer 5\n",
      "Transfer 6\n",
      "Transfer 7\n",
      "Transfer 8\n",
      "Transfer 9\n",
      "Transfer 10\n",
      "Transfer 11\n",
      "Transfer 12\n",
      "Transfer 13\n",
      "Transfer 14\n",
      "Transfer 15\n",
      "Transfer 16\n",
      "Transfer 17\n",
      "Transfer 18\n",
      "Transfer 19\n",
      "Transfer 20\n",
      "\n",
      "Algorithm simple_screening finished\n"
     ]
    }
   ],
   "source": [
    "# Test algorithm that the communities are simply passaged\n",
    "simple_screening = pd.DataFrame({\n",
    "    \"algorithm_name\": \"simple_screening\",\n",
    "    \"transfer\": range(1, params_simulation[\"n_transfer\"] + 1),\n",
    "    \"community_phenotype\": params_simulation[\"selected_function\"],\n",
    "    \"selection_algorithm\": \"no_selection\",\n",
    "    \"migration_algorithm\": \"no_migration\"\n",
    "})\n",
    "\n",
    "screening_plate_df, screening_function_df = simulate_community(\n",
    "    assumptions = assumptions,\n",
    "    params = params,\n",
    "    dynamics = dynamics,\n",
    "    params_simulation = params_simulation, \n",
    "    params_algorithm = simple_screening, \n",
    "    write_composition = True,\n",
    "    file_name = \"data/simple_screening\",\n",
    "    assembly_type = \"simple_screening\",\n",
    ")\n"
   ]
  },
  {
   "cell_type": "code",
   "execution_count": 5,
   "metadata": {},
   "outputs": [
    {
     "data": {
      "image/png": "[encoded data removed]",
      "text/plain": [
       "<Figure size 432x288 with 1 Axes>"
      ]
     },
     "metadata": {
      "needs_background": "light"
     },
     "output_type": "display_data"
    }
   ],
   "source": [
    "plot_community_function(screening_function_df)"
   ]
  },
  {
   "cell_type": "markdown",
   "metadata": {},
   "source": [
    "## Direct selection algorithm"
   ]
  },
  {
   "cell_type": "code",
   "execution_count": 6,
   "metadata": {},
   "outputs": [
    {
     "name": "stdout",
     "output_type": "stream",
     "text": [
      "\n",
      "Algorithm: direct_selection\n",
      "\n",
      "\n",
      " transfer community_phenotype      selection_algorithm       migration_algorithm\n",
      "        1      f2_interaction             no_selection              no_migration\n",
      "        2      f2_interaction             no_selection              no_migration\n",
      "        3      f2_interaction             no_selection              no_migration\n",
      "        4      f2_interaction             no_selection              no_migration\n",
      "        5      f2_interaction             no_selection              no_migration\n",
      "        6      f2_interaction             no_selection              no_migration\n",
      "        7      f2_interaction             no_selection              no_migration\n",
      "        8      f2_interaction             no_selection              no_migration\n",
      "        9      f2_interaction             no_selection              no_migration\n",
      "       10      f2_interaction  direct_selection_select  direct_selection_migrate\n",
      "       11      f2_interaction             no_selection              no_migration\n",
      "       12      f2_interaction             no_selection              no_migration\n",
      "       13      f2_interaction             no_selection              no_migration\n",
      "       14      f2_interaction             no_selection              no_migration\n",
      "       15      f2_interaction             no_selection              no_migration\n",
      "       16      f2_interaction             no_selection              no_migration\n",
      "       17      f2_interaction             no_selection              no_migration\n",
      "       18      f2_interaction             no_selection              no_migration\n",
      "       19      f2_interaction             no_selection              no_migration\n",
      "       20      f2_interaction             no_selection              no_migration\n",
      "\n",
      "Generating initial plate\n",
      "\n",
      "Start propogation\n",
      "Transfer 1\n",
      "Transfer 2\n",
      "Transfer 3\n",
      "Transfer 4\n",
      "Transfer 5\n",
      "Transfer 6\n",
      "Transfer 7\n",
      "Transfer 8\n",
      "Transfer 9\n",
      "Transfer 10\n",
      "Transfer 11\n",
      "Transfer 12\n",
      "Transfer 13\n",
      "Transfer 14\n",
      "Transfer 15\n",
      "Transfer 16\n",
      "Transfer 17\n",
      "Transfer 18\n",
      "Transfer 19\n",
      "Transfer 20\n",
      "\n",
      "Algorithm direct_selection finished\n"
     ]
    }
   ],
   "source": [
    "# Direction selection\n",
    "direct_selection = pd.DataFrame({\n",
    "    \"algorithm_name\": \"direct_selection\",\n",
    "    \"transfer\": range(1, params_simulation[\"n_transfer\"] + 1),\n",
    "    \"community_phenotype\": params_simulation[\"selected_function\"], \n",
    "    \"selection_algorithm\": [\"no_selection\" for i in range(9)] + [\"direct_selection_select\"] + [\"no_selection\" for i in range(params_simulation[\"n_transfer\"] - 10)], \n",
    "    \"migration_algorithm\": [\"no_migration\" for i in range(9)] + [\"direct_selection_migrate\"] + [\"no_migration\" for i in range(params_simulation[\"n_transfer\"] - 10)]\n",
    "})\n",
    "\n",
    "\n",
    "direct_selection_plate_df, direct_selection_function_df = simulate_community(\n",
    "    assumptions = assumptions,\n",
    "    params = params,\n",
    "    dynamics = dynamics,\n",
    "    params_simulation = params_simulation, \n",
    "    params_algorithm = direct_selection, \n",
    "    write_composition = True,\n",
    "    file_name = \"data/direct_selection\",\n",
    "    assembly_type = \"direct_selection\",\n",
    ")"
   ]
  },
  {
   "cell_type": "code",
   "execution_count": 7,
   "metadata": {},
   "outputs": [
    {
     "data": {
      "image/png": "[encoded data removed]",
      "text/plain": [
       "<Figure size 432x288 with 1 Axes>"
      ]
     },
     "metadata": {
      "needs_background": "light"
     },
     "output_type": "display_data"
    }
   ],
   "source": [
    "plot_community_function(direct_selection_function_df)"
   ]
  },
  {
   "cell_type": "markdown",
   "metadata": {},
   "source": [
    "## Select the top 25%"
   ]
  },
  {
   "cell_type": "code",
   "execution_count": 8,
   "metadata": {},
   "outputs": [
    {
     "name": "stdout",
     "output_type": "stream",
     "text": [
      "\n",
      "Algorithm: select_top25percent\n",
      "\n",
      "\n",
      " transfer community_phenotype  selection_algorithm migration_algorithm\n",
      "        1      f2_interaction         no_selection        no_migration\n",
      "        2      f2_interaction         no_selection        no_migration\n",
      "        3      f2_interaction         no_selection        no_migration\n",
      "        4      f2_interaction         no_selection        no_migration\n",
      "        5      f2_interaction         no_selection        no_migration\n",
      "        6      f2_interaction         no_selection        no_migration\n",
      "        7      f2_interaction         no_selection        no_migration\n",
      "        8      f2_interaction         no_selection        no_migration\n",
      "        9      f2_interaction         no_selection        no_migration\n",
      "       10      f2_interaction  select_top25percent        no_migration\n",
      "       11      f2_interaction         no_selection        no_migration\n",
      "       12      f2_interaction         no_selection        no_migration\n",
      "       13      f2_interaction         no_selection        no_migration\n",
      "       14      f2_interaction         no_selection        no_migration\n",
      "       15      f2_interaction         no_selection        no_migration\n",
      "       16      f2_interaction         no_selection        no_migration\n",
      "       17      f2_interaction         no_selection        no_migration\n",
      "       18      f2_interaction         no_selection        no_migration\n",
      "       19      f2_interaction         no_selection        no_migration\n",
      "       20      f2_interaction         no_selection        no_migration\n",
      "\n",
      "Generating initial plate\n",
      "\n",
      "Start propogation\n",
      "Transfer 1\n",
      "Transfer 2\n",
      "Transfer 3\n",
      "Transfer 4\n",
      "Transfer 5\n",
      "Transfer 6\n",
      "Transfer 7\n",
      "Transfer 8\n",
      "Transfer 9\n",
      "Transfer 10\n",
      "Transfer 11\n",
      "Transfer 12\n",
      "Transfer 13\n",
      "Transfer 14\n",
      "Transfer 15\n",
      "Transfer 16\n",
      "Transfer 17\n",
      "Transfer 18\n",
      "Transfer 19\n",
      "Transfer 20\n",
      "\n",
      "Algorithm select_top25percent finished\n"
     ]
    }
   ],
   "source": [
    "# Select top 25%\n",
    "select_top25 = pd.DataFrame({\n",
    "    \"algorithm_name\": \"select_top25percent\",\n",
    "    \"transfer\": range(1, params_simulation[\"n_transfer\"] + 1),\n",
    "    \"community_phenotype\": params_simulation[\"selected_function\"],\n",
    "    \"selection_algorithm\": [\"no_selection\" for i in range(9)] + [\"select_top25percent\"] + [\"no_selection\" for i in range(params_simulation[\"n_transfer\"] - 10)], \n",
    "    \"migration_algorithm\": \"no_migration\"\n",
    "})\n",
    "\n",
    "select_top25_plate_df, select_top25_function_df = simulate_community(\n",
    "    assumptions = assumptions,\n",
    "    params = params,\n",
    "    dynamics = dynamics,\n",
    "    params_simulation = params_simulation, \n",
    "    params_algorithm = select_top25, \n",
    "    write_composition = True,\n",
    "    file_name = \"data/select_top25percent\",\n",
    "    assembly_type = \"select_top25percent\",\n",
    ")"
   ]
  },
  {
   "cell_type": "code",
   "execution_count": 9,
   "metadata": {},
   "outputs": [
    {
     "data": {
      "image/png": "[encoded data removed]",
      "text/plain": [
       "<Figure size 432x288 with 1 Axes>"
      ]
     },
     "metadata": {
      "needs_background": "light"
     },
     "output_type": "display_data"
    }
   ],
   "source": [
    "plot_community_function(select_top25_function_df)"
   ]
  },
  {
   "cell_type": "markdown",
   "metadata": {},
   "source": [
    "## Select the top 10%"
   ]
  },
  {
   "cell_type": "code",
   "execution_count": 10,
   "metadata": {},
   "outputs": [
    {
     "name": "stdout",
     "output_type": "stream",
     "text": [
      "\n",
      "Algorithm: select_top10percent\n",
      "\n",
      "\n",
      " transfer community_phenotype  selection_algorithm migration_algorithm\n",
      "        1      f2_interaction         no_selection        no_migration\n",
      "        2      f2_interaction         no_selection        no_migration\n",
      "        3      f2_interaction         no_selection        no_migration\n",
      "        4      f2_interaction         no_selection        no_migration\n",
      "        5      f2_interaction         no_selection        no_migration\n",
      "        6      f2_interaction         no_selection        no_migration\n",
      "        7      f2_interaction         no_selection        no_migration\n",
      "        8      f2_interaction         no_selection        no_migration\n",
      "        9      f2_interaction         no_selection        no_migration\n",
      "       10      f2_interaction  select_top10percent        no_migration\n",
      "       11      f2_interaction         no_selection        no_migration\n",
      "       12      f2_interaction         no_selection        no_migration\n",
      "       13      f2_interaction         no_selection        no_migration\n",
      "       14      f2_interaction         no_selection        no_migration\n",
      "       15      f2_interaction         no_selection        no_migration\n",
      "       16      f2_interaction         no_selection        no_migration\n",
      "       17      f2_interaction         no_selection        no_migration\n",
      "       18      f2_interaction         no_selection        no_migration\n",
      "       19      f2_interaction         no_selection        no_migration\n",
      "       20      f2_interaction         no_selection        no_migration\n",
      "\n",
      "Generating initial plate\n",
      "\n",
      "Start propogation\n",
      "Transfer 1\n",
      "Transfer 2\n",
      "Transfer 3\n",
      "Transfer 4\n",
      "Transfer 5\n",
      "Transfer 6\n",
      "Transfer 7\n",
      "Transfer 8\n",
      "Transfer 9\n",
      "Transfer 10\n",
      "Transfer 11\n",
      "Transfer 12\n",
      "Transfer 13\n",
      "Transfer 14\n",
      "Transfer 15\n",
      "Transfer 16\n",
      "Transfer 17\n",
      "Transfer 18\n",
      "Transfer 19\n",
      "Transfer 20\n",
      "\n",
      "Algorithm select_top10percent finished\n"
     ]
    }
   ],
   "source": [
    "# Select top 10%\n",
    "select_top10 = pd.DataFrame({\n",
    "    \"algorithm_name\": \"select_top10percent\",\n",
    "    \"transfer\": range(1, params_simulation[\"n_transfer\"] + 1),\n",
    "    \"community_phenotype\": params_simulation[\"selected_function\"],\n",
    "    \"selection_algorithm\": [\"no_selection\" for i in range(9)] + [\"select_top10percent\"] + [\"no_selection\" for i in range(params_simulation[\"n_transfer\"] - 10)], \n",
    "    \"migration_algorithm\": \"no_migration\"\n",
    "})\n",
    "\n",
    "select_top10_plate_df, select_top10_function_df = simulate_community(\n",
    "    assumptions = assumptions,\n",
    "    params = params,\n",
    "    dynamics = dynamics,\n",
    "    params_simulation = params_simulation, \n",
    "    params_algorithm = select_top10, \n",
    "    write_composition = True,\n",
    "    file_name = \"data/select_top10percent\",\n",
    "    assembly_type = \"select_top10percent\",\n",
    ")"
   ]
  },
  {
   "cell_type": "code",
   "execution_count": 11,
   "metadata": {},
   "outputs": [
    {
     "data": {
      "image/png": "[encoded data removed]",
      "text/plain": [
       "<Figure size 432x288 with 1 Axes>"
      ]
     },
     "metadata": {
      "needs_background": "light"
     },
     "output_type": "display_data"
    }
   ],
   "source": [
    "plot_community_function(select_top10_function_df)"
   ]
  },
  {
   "cell_type": "markdown",
   "metadata": {},
   "source": [
    "## Multiple direct select "
   ]
  },
  {
   "cell_type": "code",
   "execution_count": 12,
   "metadata": {},
   "outputs": [
    {
     "name": "stdout",
     "output_type": "stream",
     "text": [
      "\n",
      "Algorithm: multiple_direct_selection\n",
      "\n",
      "\n",
      " transfer community_phenotype      selection_algorithm       migration_algorithm\n",
      "        1      f2_interaction             no_selection              no_migration\n",
      "        2      f2_interaction             no_selection              no_migration\n",
      "        3      f2_interaction             no_selection              no_migration\n",
      "        4      f2_interaction             no_selection              no_migration\n",
      "        5      f2_interaction             no_selection              no_migration\n",
      "        6      f2_interaction  direct_selection_select  direct_selection_migrate\n",
      "        7      f2_interaction  direct_selection_select  direct_selection_migrate\n",
      "        8      f2_interaction  direct_selection_select  direct_selection_migrate\n",
      "        9      f2_interaction  direct_selection_select  direct_selection_migrate\n",
      "       10      f2_interaction  direct_selection_select  direct_selection_migrate\n",
      "       11      f2_interaction             no_selection              no_migration\n",
      "       12      f2_interaction             no_selection              no_migration\n",
      "       13      f2_interaction             no_selection              no_migration\n",
      "       14      f2_interaction             no_selection              no_migration\n",
      "       15      f2_interaction             no_selection              no_migration\n",
      "       16      f2_interaction             no_selection              no_migration\n",
      "       17      f2_interaction             no_selection              no_migration\n",
      "       18      f2_interaction             no_selection              no_migration\n",
      "       19      f2_interaction             no_selection              no_migration\n",
      "       20      f2_interaction             no_selection              no_migration\n",
      "\n",
      "Generating initial plate\n",
      "\n",
      "Start propogation\n",
      "Transfer 1\n",
      "Transfer 2\n",
      "Transfer 3\n",
      "Transfer 4\n",
      "Transfer 5\n",
      "Transfer 6\n",
      "Transfer 7\n",
      "Transfer 8\n",
      "Transfer 9\n",
      "Transfer 10\n",
      "Transfer 11\n",
      "Transfer 12\n",
      "Transfer 13\n",
      "Transfer 14\n",
      "Transfer 15\n",
      "Transfer 16\n",
      "Transfer 17\n",
      "Transfer 18\n",
      "Transfer 19\n",
      "Transfer 20\n",
      "\n",
      "Algorithm multiple_direct_selection finished\n"
     ]
    }
   ],
   "source": [
    "multiple_direct_selection = pd.DataFrame({\n",
    "    \"algorithm_name\": \"multiple_direct_selection\",\n",
    "    \"transfer\": range(1, params_simulation[\"n_transfer\"] + 1),\n",
    "    \"community_phenotype\": params_simulation[\"selected_function\"], \n",
    "    \"selection_algorithm\": [\"no_selection\" for i in range(5)] + [\"direct_selection_select\" for i in range(5)] + [\"no_selection\" for i in range(params_simulation[\"n_transfer\"] - 10)], \n",
    "    \"migration_algorithm\": [\"no_migration\" for i in range(5)] + [\"direct_selection_migrate\" for i in range(5)] + [\"no_migration\" for i in range(params_simulation[\"n_transfer\"] - 10)]\n",
    "})\n",
    "\n",
    "\n",
    "multiple_direct_selection_plate_df, multiple_direct_selection_function_df = simulate_community(\n",
    "    assumptions = assumptions,\n",
    "    params = params,\n",
    "    dynamics = dynamics,\n",
    "    params_simulation = params_simulation, \n",
    "    params_algorithm = multiple_direct_selection, \n",
    "    write_composition = True,\n",
    "    file_name = \"data/multiple_direct_selection\",\n",
    "    assembly_type = \"multiple_direct_selection\",\n",
    ")"
   ]
  },
  {
   "cell_type": "code",
   "execution_count": 13,
   "metadata": {},
   "outputs": [
    {
     "data": {
      "image/png": "[encoded data removed]",
      "text/plain": [
       "<Figure size 432x288 with 1 Axes>"
      ]
     },
     "metadata": {
      "needs_background": "light"
     },
     "output_type": "display_data"
    }
   ],
   "source": [
    "plot_community_function(multiple_direct_selection_function_df)"
   ]
  },
  {
   "cell_type": "markdown",
   "metadata": {},
   "source": [
    "## Pair top communities"
   ]
  },
  {
   "cell_type": "code",
   "execution_count": 14,
   "metadata": {},
   "outputs": [
    {
     "name": "stdout",
     "output_type": "stream",
     "text": [
      "\n",
      "Algorithm: pair_top_communities\n",
      "\n",
      "\n",
      " transfer community_phenotype selection_algorithm migration_algorithm\n",
      "        1      f2_interaction        no_selection        no_migration\n",
      "        2      f2_interaction        no_selection        no_migration\n",
      "        3      f2_interaction        no_selection        no_migration\n",
      "        4      f2_interaction        no_selection        no_migration\n",
      "        5      f2_interaction        no_selection        no_migration\n",
      "        6      f2_interaction        no_selection        no_migration\n",
      "        7      f2_interaction        no_selection        no_migration\n",
      "        8      f2_interaction        no_selection        no_migration\n",
      "        9      f2_interaction        no_selection        no_migration\n",
      "       10      f2_interaction            pair_top        no_migration\n",
      "       11      f2_interaction        no_selection        no_migration\n",
      "       12      f2_interaction        no_selection        no_migration\n",
      "       13      f2_interaction        no_selection        no_migration\n",
      "       14      f2_interaction        no_selection        no_migration\n",
      "       15      f2_interaction        no_selection        no_migration\n",
      "       16      f2_interaction        no_selection        no_migration\n",
      "       17      f2_interaction        no_selection        no_migration\n",
      "       18      f2_interaction        no_selection        no_migration\n",
      "       19      f2_interaction        no_selection        no_migration\n",
      "       20      f2_interaction        no_selection        no_migration\n",
      "\n",
      "Generating initial plate\n",
      "\n",
      "Start propogation\n",
      "Transfer 1\n",
      "Transfer 2\n",
      "Transfer 3\n",
      "Transfer 4\n",
      "Transfer 5\n",
      "Transfer 6\n",
      "Transfer 7\n",
      "Transfer 8\n",
      "Transfer 9\n",
      "Transfer 10\n",
      "Transfer 11\n",
      "Transfer 12\n",
      "Transfer 13\n",
      "Transfer 14\n",
      "Transfer 15\n",
      "Transfer 16\n",
      "Transfer 17\n",
      "Transfer 18\n",
      "Transfer 19\n",
      "Transfer 20\n",
      "\n",
      "Algorithm pair_top_communities finished\n"
     ]
    }
   ],
   "source": [
    "# Pair top communities\n",
    "pair_top_communities = pd.DataFrame({\n",
    "    \"algorithm_name\": \"pair_top_communities\",\n",
    "    \"transfer\": range(1, params_simulation[\"n_transfer\"] + 1),\n",
    "    \"community_phenotype\": params_simulation[\"selected_function\"],\n",
    "    \"selection_algorithm\": [\"no_selection\" for i in range(9)] + [\"pair_top\"] + [\"no_selection\" for i in range(params_simulation[\"n_transfer\"] - 10)], \n",
    "    \"migration_algorithm\": \"no_migration\"\n",
    "})\n",
    "\n",
    "pair_top_plate_df, pair_top_function_df = simulate_community(\n",
    "    assumptions = assumptions,\n",
    "    params = params,\n",
    "    dynamics = dynamics,\n",
    "    params_simulation = params_simulation, \n",
    "    params_algorithm = pair_top_communities, \n",
    "    write_composition = True,\n",
    "    file_name = \"data/pair_top\",\n",
    "    assembly_type = \"pair_top\",\n",
    ")"
   ]
  },
  {
   "cell_type": "code",
   "execution_count": 15,
   "metadata": {},
   "outputs": [
    {
     "data": {
      "image/png": "[encoded data removed]",
      "text/plain": [
       "<Figure size 432x288 with 1 Axes>"
      ]
     },
     "metadata": {
      "needs_background": "light"
     },
     "output_type": "display_data"
    }
   ],
   "source": [
    "plot_community_function(pair_top_function_df)"
   ]
  },
  {
   "cell_type": "code",
   "execution_count": null,
   "metadata": {},
   "outputs": [],
   "source": []
  }
 ],
 "metadata": {
  "kernelspec": {
   "display_name": "Python 3",
   "language": "python",
   "name": "python3"
  },
  "language_info": {
   "codemirror_mode": {
    "name": "ipython",
    "version": 3
   },
   "file_extension": ".py",
   "mimetype": "text/x-python",
   "name": "python",
   "nbconvert_exporter": "python",
   "pygments_lexer": "ipython3",
   "version": "3.7.3"
  }
 },
 "nbformat": 4,
 "nbformat_minor": 2
}
