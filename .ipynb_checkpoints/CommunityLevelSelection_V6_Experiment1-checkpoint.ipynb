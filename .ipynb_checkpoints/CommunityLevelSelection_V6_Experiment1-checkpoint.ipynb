{
 "cells": [
  {
   "cell_type": "markdown",
   "metadata": {},
   "source": [
    "# Physical Biology of the Cell- Breeding Microbial Communities\n",
    "\n",
    "version: 6_experiment_1\n",
    "Authors: Chang-Yu Chang, Jean Vila, Molly Basette, Julia Borden, Stefan Golfier, Paul Gerald Layague Sanchez, Brian von Herzen, Rachel Waymack, Xinwen Zhu, Alvaro Sanchez\n",
    "Last Edited: August 22nd 2019 by Jean Vila\n",
    "\n",
    "Notebook for implementing community level selection using the community simulator package (Marlsand et al 2019, biorxiv) .\n",
    "This version perform community level selection the 'best algorithm' from the first experiment, i.e the pair_xz. to determine community phenotype we are using an additive function. We will compare this to a ctrl experiment in which communities are not selected (i.e a simple screen)"
   ]
  },
  {
   "cell_type": "code",
   "execution_count": 1,
   "metadata": {},
   "outputs": [
    {
     "name": "stdout",
     "output_type": "stream",
     "text": [
      "cvxpy not installed. Community.SteadyState() not available.\n"
     ]
    }
   ],
   "source": [
    "from IPython.display import Image\n",
    "from community_simulator import *\n",
    "from community_simulator.usertools import *\n",
    "from community_simulator.visualization import *\n",
    "import seaborn as sns\n",
    "import matplotlib.pyplot as plt\n",
    "from matplotlib.backends import backend_pdf as bpdf\n",
    "import numpy as np\n",
    "import scipy as sp\n",
    "colors = sns.color_palette()\n",
    "%matplotlib inline"
   ]
  },
  {
   "cell_type": "markdown",
   "metadata": {},
   "source": [
    "This chunk contains a set of functions and objects that you will need to perform community level selection. We are putting them all together so you can load them once and then they will be available in all subsequent chunks.  You will (hopefully) never need to change any of these functions/objects. "
   ]
  },
  {
   "cell_type": "code",
   "execution_count": 2,
   "metadata": {},
   "outputs": [],
   "source": [
    "#Make dynanmics by default we will use the Microbial consumer resource model\n",
    "def dNdt(N,R,params):\n",
    "    return MakeConsumerDynamics(assumptions)(N,R,params)\n",
    "def dRdt(N,R,params):\n",
    "    return MakeResourceDynamics(assumptions)(N,R,params)\n",
    "dynamics = [dNdt,dRdt]\n",
    "\n",
    "# Create a regional species pool\n",
    "def RegionalSpeciesPool(assumptions):\n",
    "    # Parameters\n",
    "    S_tot = int(np.sum(assumptions['SA'])+assumptions['Sgen']) # Total number of species (specialist + generalist)\n",
    "    F = len(assumptions['SA']) # Number of consumer families\n",
    "    consumer_names = ['S'+str(k) for k in range(S_tot)]\n",
    "    family_names = ['F'+str(k) for k in range(F)]\n",
    "    well_names = ['W'+str(k) for k in range(assumptions['n_wells'])]\n",
    "    consumer_index = [[family_names[m] for m in range(F) for k in range(assumptions['SA'][m])]\n",
    "    +['GEN' for k in range(assumptions['Sgen'])],consumer_names]\n",
    "    \n",
    "    # Assign drawn values based on power-law distribution\n",
    "    # Creating an array with M rows an n_wells columns with 0 entries\n",
    "    pool = np.random.power(1, size  = S_tot) \n",
    "    return pool/np.sum(pool)  # Relative species abundance in regional pool\n",
    "\n",
    "# Sample communities from regional species pool\n",
    "def SampleFromPool(plate_N, pool, scale=10**6, inocula=10**6):\n",
    "    N0 = np.zeros((plate_N.shape))\n",
    "    consumer_index = plate_N.index\n",
    "    well_names = plate_N.columns\n",
    "    \n",
    "    for k in range(plate_N.shape[1]):\n",
    "        consumer_list = np.random.choice(len(pool), size=len(pool), replace=True, p=pool)\n",
    "        my_tab = pd.crosstab(index=consumer_list, columns=\"count\") # Calculate the biomass count\n",
    "        N0[my_tab.index.values,k] = np.ravel(my_tab.values / np.sum(my_tab.values) * inocula / scale) # Scale to sum\n",
    "\n",
    "    # Make data.frame\n",
    "    N0 = pd.DataFrame(N0,index=consumer_index,columns=well_names)\n",
    "    return N0\n",
    "\n",
    "# Compute the distances from the target resource\n",
    "def additive_community_function(plate, sigma = 0.001): #Sigma is the measurement error\n",
    "    N_tot = plate.N.shape[1]\n",
    "    \n",
    "    # Assign additive neutral traits to each of species\n",
    "    ## Number of species in pools\n",
    "    S_tot = plate.N.shape[0]\n",
    "    ## Assign additive traits to each species\n",
    "    np.random.seed(0)\n",
    "    traits = np.random.normal(0, 0.1, size=S_tot)\n",
    "\n",
    "    return(np.sum(plate.N.values*traits[:,None],axis=0)*(1+ np.random.normal(0,sigma,N_tot)))\n",
    "\n",
    "# Plot community function as a function of time    \n",
    "def plot_community_function(function_df):\n",
    "    import matplotlib.pyplot as plt\n",
    "    #function_df\n",
    "    time = range(0, len(function_df))\n",
    "    plt.plot(time,function_df,'ko', markersize=2)\n",
    "    ax = plt.gca()\n",
    "    ax.set_xlabel(\"transfer\")\n",
    "    ax.set_ylabel(\"Community function\")\n",
    "    plt.show()\n",
    "\n",
    "\n",
    "# Plot the transfer matrix\n",
    "def plot_transfer_matrix(t):\n",
    "    t    \n",
    "    fig,ax=plt.subplots()\n",
    "    sns.heatmap(t,ax=ax)\n",
    "    ax.set_xlabel('Old well',fontsize=14)\n",
    "    ax.set_ylabel('New well',fontsize=14)\n",
    "    ax.set_title(r'Transfer Matrix $f$',fontsize=14)\n",
    "    plt.show()\n",
    "    \n",
    "    \n",
    "def pairwise_XZ(community_function):\n",
    "    import itertools\n",
    "    n = len(community_function)\n",
    "    # Community function per transfer\n",
    "    sorted_community_function = np.sort(community_function)\n",
    "    # cutoff top ten \n",
    "    top_10 = sorted_community_function[86]\n",
    "    winner_index = np.where(community_function >= top_10)\n",
    "    pairwise = list(itertools.combinations(winner_index[0], 2))\n",
    "    # Empty transfer matrix\n",
    "    t = np.zeros((n, n))\n",
    "    c=0\n",
    "    for i in range (0,90): #populate rows one by one\n",
    "        t[i,pairwise[c][0]]=1\n",
    "        t[i,pairwise[c][1]]=1\n",
    "        c = c+1\n",
    "        if c == 45:\n",
    "            c = 0\n",
    "    c=0\n",
    "    for i in range (90,96): \n",
    "        t[i,winner_index[0][c]]=1\n",
    "        c = c+1\n",
    "    return t"
   ]
  },
  {
   "cell_type": "markdown",
   "metadata": {},
   "source": [
    "# Ctrl\n",
    "\n",
    "This chunk below performs community assembly without any selection"
   ]
  },
  {
   "cell_type": "code",
   "execution_count": 3,
   "metadata": {},
   "outputs": [
    {
     "ename": "KeyboardInterrupt",
     "evalue": "",
     "output_type": "error",
     "traceback": [
      "\u001b[0;31m---------------------------------------------------------------------------\u001b[0m",
      "\u001b[0;31mKeyboardInterrupt\u001b[0m                         Traceback (most recent call last)",
      "\u001b[0;32m<ipython-input-3-792dabad2db2>\u001b[0m in \u001b[0;36m<module>\u001b[0;34m\u001b[0m\n\u001b[1;32m     16\u001b[0m \u001b[0mfunction_df\u001b[0m \u001b[0;34m=\u001b[0m \u001b[0mlist\u001b[0m\u001b[0;34m(\u001b[0m\u001b[0;34m)\u001b[0m\u001b[0;34m\u001b[0m\u001b[0;34m\u001b[0m\u001b[0m\n\u001b[1;32m     17\u001b[0m \u001b[0;32mfor\u001b[0m \u001b[0mi\u001b[0m \u001b[0;32min\u001b[0m \u001b[0mrange\u001b[0m\u001b[0;34m(\u001b[0m\u001b[0;36m0\u001b[0m\u001b[0;34m,\u001b[0m\u001b[0;36m20\u001b[0m\u001b[0;34m)\u001b[0m\u001b[0;34m:\u001b[0m\u001b[0;34m\u001b[0m\u001b[0;34m\u001b[0m\u001b[0m\n\u001b[0;32m---> 18\u001b[0;31m     \u001b[0mctrl_plate\u001b[0m\u001b[0;34m.\u001b[0m\u001b[0mPropagate\u001b[0m\u001b[0;34m(\u001b[0m\u001b[0;36m24\u001b[0m\u001b[0;34m)\u001b[0m\u001b[0;34m\u001b[0m\u001b[0;34m\u001b[0m\u001b[0m\n\u001b[0m\u001b[1;32m     19\u001b[0m     \u001b[0mcommunity_function\u001b[0m \u001b[0;34m=\u001b[0m \u001b[0madditive_community_function\u001b[0m\u001b[0;34m(\u001b[0m\u001b[0mctrl_plate\u001b[0m\u001b[0;34m)\u001b[0m\u001b[0;34m\u001b[0m\u001b[0;34m\u001b[0m\u001b[0m\n\u001b[1;32m     20\u001b[0m     \u001b[0mt\u001b[0m \u001b[0;34m=\u001b[0m \u001b[0mnp\u001b[0m\u001b[0;34m.\u001b[0m\u001b[0meye\u001b[0m\u001b[0;34m(\u001b[0m\u001b[0mn\u001b[0m\u001b[0;34m)\u001b[0m\u001b[0;34m*\u001b[0m\u001b[0;36m1\u001b[0m\u001b[0;34m/\u001b[0m\u001b[0;36m1000\u001b[0m\u001b[0;34m\u001b[0m\u001b[0;34m\u001b[0m\u001b[0m\n",
      "\u001b[0;32m~/Desktop/Lab/community-selection/community_simulator/__init__.py\u001b[0m in \u001b[0;36mPropagate\u001b[0;34m(self, T, compress_resources, compress_species)\u001b[0m\n\u001b[1;32m    245\u001b[0m             \u001b[0mpool\u001b[0m\u001b[0;34m.\u001b[0m\u001b[0mclose\u001b[0m\u001b[0;34m(\u001b[0m\u001b[0;34m)\u001b[0m\u001b[0;34m\u001b[0m\u001b[0;34m\u001b[0m\u001b[0m\n\u001b[1;32m    246\u001b[0m         \u001b[0;32melse\u001b[0m\u001b[0;34m:\u001b[0m\u001b[0;34m\u001b[0m\u001b[0;34m\u001b[0m\u001b[0m\n\u001b[0;32m--> 247\u001b[0;31m             \u001b[0my_out\u001b[0m \u001b[0;34m=\u001b[0m \u001b[0mnp\u001b[0m\u001b[0;34m.\u001b[0m\u001b[0masarray\u001b[0m\u001b[0;34m(\u001b[0m\u001b[0mlist\u001b[0m\u001b[0;34m(\u001b[0m\u001b[0mmap\u001b[0m\u001b[0;34m(\u001b[0m\u001b[0mIntegrateTheseWells\u001b[0m\u001b[0;34m,\u001b[0m\u001b[0mwell_info\u001b[0m\u001b[0;34m)\u001b[0m\u001b[0;34m)\u001b[0m\u001b[0;34m)\u001b[0m\u001b[0;34m.\u001b[0m\u001b[0msqueeze\u001b[0m\u001b[0;34m(\u001b[0m\u001b[0;34m)\u001b[0m\u001b[0;34m.\u001b[0m\u001b[0mT\u001b[0m\u001b[0;34m\u001b[0m\u001b[0;34m\u001b[0m\u001b[0m\n\u001b[0m\u001b[1;32m    248\u001b[0m \u001b[0;34m\u001b[0m\u001b[0m\n\u001b[1;32m    249\u001b[0m         \u001b[0;31m#HANDLE CASE OF A SINGLE-WELL PLATE\u001b[0m\u001b[0;34m\u001b[0m\u001b[0;34m\u001b[0m\u001b[0;34m\u001b[0m\u001b[0m\n",
      "\u001b[0;32m~/Desktop/Lab/community-selection/community_simulator/essentialtools.py\u001b[0m in \u001b[0;36mIntegrateWell\u001b[0;34m(CommunityInstance, well_info, T0, T, ns, return_all, log_time, compress_resources, compress_species)\u001b[0m\n\u001b[1;32m     70\u001b[0m         \u001b[0;32mreturn\u001b[0m \u001b[0mt\u001b[0m\u001b[0;34m,\u001b[0m \u001b[0mtraj\u001b[0m\u001b[0;34m\u001b[0m\u001b[0;34m\u001b[0m\u001b[0m\n\u001b[1;32m     71\u001b[0m     \u001b[0;32melse\u001b[0m\u001b[0;34m:\u001b[0m\u001b[0;34m\u001b[0m\u001b[0;34m\u001b[0m\u001b[0m\n\u001b[0;32m---> 72\u001b[0;31m         \u001b[0mout\u001b[0m \u001b[0;34m=\u001b[0m \u001b[0mintegrate\u001b[0m\u001b[0;34m.\u001b[0m\u001b[0modeint\u001b[0m\u001b[0;34m(\u001b[0m\u001b[0mCommunityInstance\u001b[0m\u001b[0;34m.\u001b[0m\u001b[0mdydt\u001b[0m\u001b[0;34m,\u001b[0m\u001b[0my0_comp\u001b[0m\u001b[0;34m,\u001b[0m\u001b[0mt\u001b[0m\u001b[0;34m,\u001b[0m\u001b[0margs\u001b[0m\u001b[0;34m=\u001b[0m\u001b[0;34m(\u001b[0m\u001b[0mparams_comp\u001b[0m\u001b[0;34m,\u001b[0m\u001b[0mS_comp\u001b[0m\u001b[0;34m)\u001b[0m\u001b[0;34m,\u001b[0m\u001b[0mmxstep\u001b[0m\u001b[0;34m=\u001b[0m\u001b[0;36m10000\u001b[0m\u001b[0;34m,\u001b[0m\u001b[0matol\u001b[0m\u001b[0;34m=\u001b[0m\u001b[0;36m1e-4\u001b[0m\u001b[0;34m)\u001b[0m\u001b[0;34m[\u001b[0m\u001b[0;34m-\u001b[0m\u001b[0;36m1\u001b[0m\u001b[0;34m]\u001b[0m\u001b[0;34m\u001b[0m\u001b[0;34m\u001b[0m\u001b[0m\n\u001b[0m\u001b[1;32m     73\u001b[0m         \u001b[0myf\u001b[0m \u001b[0;34m=\u001b[0m \u001b[0mnp\u001b[0m\u001b[0;34m.\u001b[0m\u001b[0mzeros\u001b[0m\u001b[0;34m(\u001b[0m\u001b[0mlen\u001b[0m\u001b[0;34m(\u001b[0m\u001b[0my0\u001b[0m\u001b[0;34m)\u001b[0m\u001b[0;34m)\u001b[0m\u001b[0;34m\u001b[0m\u001b[0;34m\u001b[0m\u001b[0m\n\u001b[1;32m     74\u001b[0m         \u001b[0myf\u001b[0m\u001b[0;34m[\u001b[0m\u001b[0mnot_extinct_idx\u001b[0m\u001b[0;34m]\u001b[0m \u001b[0;34m=\u001b[0m \u001b[0mout\u001b[0m\u001b[0;34m\u001b[0m\u001b[0;34m\u001b[0m\u001b[0m\n",
      "\u001b[0;32m~/anaconda3/lib/python3.7/site-packages/scipy/integrate/odepack.py\u001b[0m in \u001b[0;36modeint\u001b[0;34m(func, y0, t, args, Dfun, col_deriv, full_output, ml, mu, rtol, atol, tcrit, h0, hmax, hmin, ixpr, mxstep, mxhnil, mxordn, mxords, printmessg, tfirst)\u001b[0m\n\u001b[1;32m    242\u001b[0m                              \u001b[0mfull_output\u001b[0m\u001b[0;34m,\u001b[0m \u001b[0mrtol\u001b[0m\u001b[0;34m,\u001b[0m \u001b[0matol\u001b[0m\u001b[0;34m,\u001b[0m \u001b[0mtcrit\u001b[0m\u001b[0;34m,\u001b[0m \u001b[0mh0\u001b[0m\u001b[0;34m,\u001b[0m \u001b[0mhmax\u001b[0m\u001b[0;34m,\u001b[0m \u001b[0mhmin\u001b[0m\u001b[0;34m,\u001b[0m\u001b[0;34m\u001b[0m\u001b[0;34m\u001b[0m\u001b[0m\n\u001b[1;32m    243\u001b[0m                              \u001b[0mixpr\u001b[0m\u001b[0;34m,\u001b[0m \u001b[0mmxstep\u001b[0m\u001b[0;34m,\u001b[0m \u001b[0mmxhnil\u001b[0m\u001b[0;34m,\u001b[0m \u001b[0mmxordn\u001b[0m\u001b[0;34m,\u001b[0m \u001b[0mmxords\u001b[0m\u001b[0;34m,\u001b[0m\u001b[0;34m\u001b[0m\u001b[0;34m\u001b[0m\u001b[0m\n\u001b[0;32m--> 244\u001b[0;31m                              int(bool(tfirst)))\n\u001b[0m\u001b[1;32m    245\u001b[0m     \u001b[0;32mif\u001b[0m \u001b[0moutput\u001b[0m\u001b[0;34m[\u001b[0m\u001b[0;34m-\u001b[0m\u001b[0;36m1\u001b[0m\u001b[0;34m]\u001b[0m \u001b[0;34m<\u001b[0m \u001b[0;36m0\u001b[0m\u001b[0;34m:\u001b[0m\u001b[0;34m\u001b[0m\u001b[0;34m\u001b[0m\u001b[0m\n\u001b[1;32m    246\u001b[0m         \u001b[0mwarning_msg\u001b[0m \u001b[0;34m=\u001b[0m \u001b[0m_msgs\u001b[0m\u001b[0;34m[\u001b[0m\u001b[0moutput\u001b[0m\u001b[0;34m[\u001b[0m\u001b[0;34m-\u001b[0m\u001b[0;36m1\u001b[0m\u001b[0;34m]\u001b[0m\u001b[0;34m]\u001b[0m \u001b[0;34m+\u001b[0m \u001b[0;34m\" Run with full_output = 1 to get quantitative information.\"\u001b[0m\u001b[0;34m\u001b[0m\u001b[0;34m\u001b[0m\u001b[0m\n",
      "\u001b[0;32m~/Desktop/Lab/community-selection/community_simulator/__init__.py\u001b[0m in \u001b[0;36mdydt\u001b[0;34m(self, y, t, params, S_comp)\u001b[0m\n\u001b[1;32m    145\u001b[0m         \"\"\"\n\u001b[1;32m    146\u001b[0m         return np.hstack([self.dNdt(y[:S_comp],y[S_comp:],params),\n\u001b[0;32m--> 147\u001b[0;31m                           self.dRdt(y[:S_comp],y[S_comp:],params)])\n\u001b[0m\u001b[1;32m    148\u001b[0m \u001b[0;34m\u001b[0m\u001b[0m\n\u001b[1;32m    149\u001b[0m     def SteadyState(self,supply='external',tol=1e-7,shift_size=1,\n",
      "\u001b[0;32m<ipython-input-2-7a0a73b7dd07>\u001b[0m in \u001b[0;36mdRdt\u001b[0;34m(N, R, params)\u001b[0m\n\u001b[1;32m      3\u001b[0m     \u001b[0;32mreturn\u001b[0m \u001b[0mMakeConsumerDynamics\u001b[0m\u001b[0;34m(\u001b[0m\u001b[0massumptions\u001b[0m\u001b[0;34m)\u001b[0m\u001b[0;34m(\u001b[0m\u001b[0mN\u001b[0m\u001b[0;34m,\u001b[0m\u001b[0mR\u001b[0m\u001b[0;34m,\u001b[0m\u001b[0mparams\u001b[0m\u001b[0;34m)\u001b[0m\u001b[0;34m\u001b[0m\u001b[0;34m\u001b[0m\u001b[0m\n\u001b[1;32m      4\u001b[0m \u001b[0;32mdef\u001b[0m \u001b[0mdRdt\u001b[0m\u001b[0;34m(\u001b[0m\u001b[0mN\u001b[0m\u001b[0;34m,\u001b[0m\u001b[0mR\u001b[0m\u001b[0;34m,\u001b[0m\u001b[0mparams\u001b[0m\u001b[0;34m)\u001b[0m\u001b[0;34m:\u001b[0m\u001b[0;34m\u001b[0m\u001b[0;34m\u001b[0m\u001b[0m\n\u001b[0;32m----> 5\u001b[0;31m     \u001b[0;32mreturn\u001b[0m \u001b[0mMakeResourceDynamics\u001b[0m\u001b[0;34m(\u001b[0m\u001b[0massumptions\u001b[0m\u001b[0;34m)\u001b[0m\u001b[0;34m(\u001b[0m\u001b[0mN\u001b[0m\u001b[0;34m,\u001b[0m\u001b[0mR\u001b[0m\u001b[0;34m,\u001b[0m\u001b[0mparams\u001b[0m\u001b[0;34m)\u001b[0m\u001b[0;34m\u001b[0m\u001b[0;34m\u001b[0m\u001b[0m\n\u001b[0m\u001b[1;32m      6\u001b[0m \u001b[0mdynamics\u001b[0m \u001b[0;34m=\u001b[0m \u001b[0;34m[\u001b[0m\u001b[0mdNdt\u001b[0m\u001b[0;34m,\u001b[0m\u001b[0mdRdt\u001b[0m\u001b[0;34m]\u001b[0m\u001b[0;34m\u001b[0m\u001b[0;34m\u001b[0m\u001b[0m\n\u001b[1;32m      7\u001b[0m \u001b[0;34m\u001b[0m\u001b[0m\n",
      "\u001b[0;32m~/Desktop/Lab/community-selection/community_simulator/usertools.py\u001b[0m in \u001b[0;36m<lambda>\u001b[0;34m(N, R, params)\u001b[0m\n\u001b[1;32m    343\u001b[0m     return lambda N,R,params: (h[assumptions['supply']](R,params)\n\u001b[1;32m    344\u001b[0m                                \u001b[0;34m-\u001b[0m\u001b[0;34m(\u001b[0m\u001b[0mJ_in\u001b[0m\u001b[0;34m(\u001b[0m\u001b[0mR\u001b[0m\u001b[0;34m,\u001b[0m\u001b[0mparams\u001b[0m\u001b[0;34m)\u001b[0m\u001b[0;34m/\u001b[0m\u001b[0mparams\u001b[0m\u001b[0;34m[\u001b[0m\u001b[0;34m'w'\u001b[0m\u001b[0;34m]\u001b[0m\u001b[0;34m)\u001b[0m\u001b[0;34m.\u001b[0m\u001b[0mT\u001b[0m\u001b[0;34m.\u001b[0m\u001b[0mdot\u001b[0m\u001b[0;34m(\u001b[0m\u001b[0mN\u001b[0m\u001b[0;34m)\u001b[0m\u001b[0;34m\u001b[0m\u001b[0;34m\u001b[0m\u001b[0m\n\u001b[0;32m--> 345\u001b[0;31m                                +(J_out(R,params)/params['w']).T.dot(N))\n\u001b[0m\u001b[1;32m    346\u001b[0m \u001b[0;34m\u001b[0m\u001b[0m\n\u001b[1;32m    347\u001b[0m \u001b[0;32mdef\u001b[0m \u001b[0mMakeConsumerDynamics\u001b[0m\u001b[0;34m(\u001b[0m\u001b[0massumptions\u001b[0m\u001b[0;34m)\u001b[0m\u001b[0;34m:\u001b[0m\u001b[0;34m\u001b[0m\u001b[0;34m\u001b[0m\u001b[0m\n",
      "\u001b[0;32m~/Desktop/Lab/community-selection/community_simulator/usertools.py\u001b[0m in \u001b[0;36m<lambda>\u001b[0;34m(R, params)\u001b[0m\n\u001b[1;32m    339\u001b[0m     J_in = lambda R,params: (u[assumptions['regulation']](params['c']*R,params)\n\u001b[1;32m    340\u001b[0m                              *params['w']*sigma[assumptions['response']](R,params))\n\u001b[0;32m--> 341\u001b[0;31m     \u001b[0mJ_out\u001b[0m \u001b[0;34m=\u001b[0m \u001b[0;32mlambda\u001b[0m \u001b[0mR\u001b[0m\u001b[0;34m,\u001b[0m\u001b[0mparams\u001b[0m\u001b[0;34m:\u001b[0m \u001b[0;34m(\u001b[0m\u001b[0mparams\u001b[0m\u001b[0;34m[\u001b[0m\u001b[0;34m'l'\u001b[0m\u001b[0;34m]\u001b[0m\u001b[0;34m*\u001b[0m\u001b[0mJ_in\u001b[0m\u001b[0;34m(\u001b[0m\u001b[0mR\u001b[0m\u001b[0;34m,\u001b[0m\u001b[0mparams\u001b[0m\u001b[0;34m)\u001b[0m\u001b[0;34m)\u001b[0m\u001b[0;34m.\u001b[0m\u001b[0mdot\u001b[0m\u001b[0;34m(\u001b[0m\u001b[0mparams\u001b[0m\u001b[0;34m[\u001b[0m\u001b[0;34m'D'\u001b[0m\u001b[0;34m]\u001b[0m\u001b[0;34m.\u001b[0m\u001b[0mT\u001b[0m\u001b[0;34m)\u001b[0m\u001b[0;34m\u001b[0m\u001b[0;34m\u001b[0m\u001b[0m\n\u001b[0m\u001b[1;32m    342\u001b[0m \u001b[0;34m\u001b[0m\u001b[0m\n\u001b[1;32m    343\u001b[0m     return lambda N,R,params: (h[assumptions['supply']](R,params)\n",
      "\u001b[0;32m~/Desktop/Lab/community-selection/community_simulator/usertools.py\u001b[0m in \u001b[0;36m<lambda>\u001b[0;34m(R, params)\u001b[0m\n\u001b[1;32m    338\u001b[0m \u001b[0;34m\u001b[0m\u001b[0m\n\u001b[1;32m    339\u001b[0m     J_in = lambda R,params: (u[assumptions['regulation']](params['c']*R,params)\n\u001b[0;32m--> 340\u001b[0;31m                              *params['w']*sigma[assumptions['response']](R,params))\n\u001b[0m\u001b[1;32m    341\u001b[0m     \u001b[0mJ_out\u001b[0m \u001b[0;34m=\u001b[0m \u001b[0;32mlambda\u001b[0m \u001b[0mR\u001b[0m\u001b[0;34m,\u001b[0m\u001b[0mparams\u001b[0m\u001b[0;34m:\u001b[0m \u001b[0;34m(\u001b[0m\u001b[0mparams\u001b[0m\u001b[0;34m[\u001b[0m\u001b[0;34m'l'\u001b[0m\u001b[0;34m]\u001b[0m\u001b[0;34m*\u001b[0m\u001b[0mJ_in\u001b[0m\u001b[0;34m(\u001b[0m\u001b[0mR\u001b[0m\u001b[0;34m,\u001b[0m\u001b[0mparams\u001b[0m\u001b[0;34m)\u001b[0m\u001b[0;34m)\u001b[0m\u001b[0;34m.\u001b[0m\u001b[0mdot\u001b[0m\u001b[0;34m(\u001b[0m\u001b[0mparams\u001b[0m\u001b[0;34m[\u001b[0m\u001b[0;34m'D'\u001b[0m\u001b[0;34m]\u001b[0m\u001b[0;34m.\u001b[0m\u001b[0mT\u001b[0m\u001b[0;34m)\u001b[0m\u001b[0;34m\u001b[0m\u001b[0;34m\u001b[0m\u001b[0m\n\u001b[1;32m    342\u001b[0m \u001b[0;34m\u001b[0m\u001b[0m\n",
      "\u001b[0;32m~/Desktop/Lab/community-selection/community_simulator/usertools.py\u001b[0m in \u001b[0;36m<lambda>\u001b[0;34m(R, params)\u001b[0m\n\u001b[1;32m    320\u001b[0m         \u001b[0mvector\u001b[0m \u001b[0mof\u001b[0m \u001b[0mresource\u001b[0m \u001b[0mrates\u001b[0m \u001b[0mof\u001b[0m \u001b[0mchange\u001b[0m \u001b[0mdR\u001b[0m\u001b[0;34m/\u001b[0m\u001b[0mdt\u001b[0m\u001b[0;34m\u001b[0m\u001b[0;34m\u001b[0m\u001b[0m\n\u001b[1;32m    321\u001b[0m     \"\"\"\n\u001b[0;32m--> 322\u001b[0;31m     sigma = {'type I': lambda R,params: params['c']*R,\n\u001b[0m\u001b[1;32m    323\u001b[0m              \u001b[0;34m'type II'\u001b[0m\u001b[0;34m:\u001b[0m \u001b[0;32mlambda\u001b[0m \u001b[0mR\u001b[0m\u001b[0;34m,\u001b[0m\u001b[0mparams\u001b[0m\u001b[0;34m:\u001b[0m \u001b[0mparams\u001b[0m\u001b[0;34m[\u001b[0m\u001b[0;34m'c'\u001b[0m\u001b[0;34m]\u001b[0m\u001b[0;34m*\u001b[0m\u001b[0mR\u001b[0m\u001b[0;34m/\u001b[0m\u001b[0;34m(\u001b[0m\u001b[0;36m1\u001b[0m\u001b[0;34m+\u001b[0m\u001b[0mparams\u001b[0m\u001b[0;34m[\u001b[0m\u001b[0;34m'c'\u001b[0m\u001b[0;34m]\u001b[0m\u001b[0;34m*\u001b[0m\u001b[0mR\u001b[0m\u001b[0;34m/\u001b[0m\u001b[0mparams\u001b[0m\u001b[0;34m[\u001b[0m\u001b[0;34m'sigma_max'\u001b[0m\u001b[0;34m]\u001b[0m\u001b[0;34m)\u001b[0m\u001b[0;34m,\u001b[0m\u001b[0;34m\u001b[0m\u001b[0;34m\u001b[0m\u001b[0m\n\u001b[1;32m    324\u001b[0m              \u001b[0;34m'type III'\u001b[0m\u001b[0;34m:\u001b[0m \u001b[0;32mlambda\u001b[0m \u001b[0mR\u001b[0m\u001b[0;34m,\u001b[0m\u001b[0mparams\u001b[0m\u001b[0;34m:\u001b[0m \u001b[0;34m(\u001b[0m\u001b[0mparams\u001b[0m\u001b[0;34m[\u001b[0m\u001b[0;34m'c'\u001b[0m\u001b[0;34m]\u001b[0m\u001b[0;34m*\u001b[0m\u001b[0mR\u001b[0m\u001b[0;34m)\u001b[0m\u001b[0;34m**\u001b[0m\u001b[0mparams\u001b[0m\u001b[0;34m[\u001b[0m\u001b[0;34m'n'\u001b[0m\u001b[0;34m]\u001b[0m\u001b[0;34m/\u001b[0m\u001b[0;34m(\u001b[0m\u001b[0;36m1\u001b[0m\u001b[0;34m+\u001b[0m\u001b[0;34m(\u001b[0m\u001b[0mparams\u001b[0m\u001b[0;34m[\u001b[0m\u001b[0;34m'c'\u001b[0m\u001b[0;34m]\u001b[0m\u001b[0;34m*\u001b[0m\u001b[0mR\u001b[0m\u001b[0;34m)\u001b[0m\u001b[0;34m**\u001b[0m\u001b[0mparams\u001b[0m\u001b[0;34m[\u001b[0m\u001b[0;34m'n'\u001b[0m\u001b[0;34m]\u001b[0m\u001b[0;34m/\u001b[0m\u001b[0mparams\u001b[0m\u001b[0;34m[\u001b[0m\u001b[0;34m'sigma_max'\u001b[0m\u001b[0;34m]\u001b[0m\u001b[0;34m)\u001b[0m\u001b[0;34m\u001b[0m\u001b[0;34m\u001b[0m\u001b[0m\n",
      "\u001b[0;31mKeyboardInterrupt\u001b[0m: "
     ]
    }
   ],
   "source": [
    "# Set up\n",
    "np.random.seed(0) # Global random seed (i.e all participants)\n",
    "n = 96 #No of wells\n",
    "assumptions=a_default.copy() #Start with default parameters\n",
    "assumptions.update({'n_wells':n,\n",
    "                    'c1' :.01,\n",
    "                    'muc':0.1, #This is just a rescaling of the uptake rate\n",
    "                    'm':0}) #switch off mortality to make things simpler\n",
    "init_state = MakeInitialState(assumptions)\n",
    "params = MakeParams(assumptions)\n",
    "species_pool = RegionalSpeciesPool(assumptions) # Generate a species pool\n",
    "# Make plate\n",
    "np.random.seed(0) # Unique random seed (each participant sets their own seed)\n",
    "ctrl_plate = Community(init_state,dynamics,params,scale = 10**6,parallel=True) # If using mac set parallel to tru\n",
    "ctrl_plate.N = SampleFromPool(ctrl_plate.N,species_pool)# Populate the well by sampling from the species pool\n",
    "function_df = list()\n",
    "for i in range(0,20):\n",
    "    ctrl_plate.Propagate(24)\n",
    "    community_function = additive_community_function(ctrl_plate)\n",
    "    t = np.eye(n)*1/1000\n",
    "    ctrl_plate.Passage(t)\n",
    "    function_df.append(community_function)\n",
    "    \n",
    "# Plot the community function as a function of time \n",
    "plot_community_function(function_df)"
   ]
  },
  {
   "cell_type": "markdown",
   "metadata": {},
   "source": [
    "# Community Level Selection\n",
    "\n",
    "This chunk below performs community level selection using the pairwize_xz_function."
   ]
  },
  {
   "cell_type": "code",
   "execution_count": 4,
   "metadata": {},
   "outputs": [
    {
     "data": {
      "image/png": "[encoded data removed]",
      "text/plain": [
       "<Figure size 432x288 with 1 Axes>"
      ]
     },
     "metadata": {
      "needs_background": "light"
     },
     "output_type": "display_data"
    }
   ],
   "source": [
    "# Set up\n",
    "np.random.seed(0) # Global random seed (i.e all participants)\n",
    "n = 96 #No of wells\n",
    "assumptions=a_default.copy() #Start with default parameters\n",
    "assumptions.update({'n_wells':n,\n",
    "                    'c1' :.01,\n",
    "                    'muc':0.1, #This is just a rescaling of the uptake rate\n",
    "                    'm':0}) #switch off mortality to make things simpler\n",
    "init_state = MakeInitialState(assumptions)\n",
    "params = MakeParams(assumptions)\n",
    "species_pool = RegionalSpeciesPool(assumptions) # Generate a species pool\n",
    "# Make plate\n",
    "np.random.seed(0) # Unique random seed (each participant sets their own seed)\n",
    "selection_plate = Community(init_state,dynamics,params,scale = 10**6,parallel=True) # If using mac set parallel to tru\n",
    "selection_plate.N = SampleFromPool(selection_plate.N,species_pool)# Populate the well by sampling from the species pool\n",
    "function_df = list()\n",
    "for i in range(0,20):\n",
    "    selection_plate.Propagate(24)\n",
    "    community_function = additive_community_function(selection_plate)\n",
    "    t = pairwise_XZ(community_function)*1/1000\n",
    "    selection_plate.Passage(t)\n",
    "    function_df.append(community_function)\n",
    "    \n",
    "# Plot the community function as a function of time \n",
    "plot_community_function(function_df)"
   ]
  }
 ],
 "metadata": {
  "kernelspec": {
   "display_name": "Python 3",
   "language": "python",
   "name": "python3"
  },
  "language_info": {
   "codemirror_mode": {
    "name": "ipython",
    "version": 3
   },
   "file_extension": ".py",
   "mimetype": "text/x-python",
   "name": "python",
   "nbconvert_exporter": "python",
   "pygments_lexer": "ipython3",
   "version": "3.7.3"
  }
 },
 "nbformat": 4,
 "nbformat_minor": 2
}
