{
 "cells": [
  {
   "cell_type": "markdown",
   "metadata": {},
   "source": [
    "# Community functions "
   ]
  },
  {
   "cell_type": "code",
   "execution_count": 1,
   "metadata": {},
   "outputs": [],
   "source": [
    "# Community simulator package\n",
    "from IPython.display import Image\n",
    "from community_simulator import *\n",
    "from community_simulator.usertools import *\n",
    "from community_simulator.visualization import *\n",
    "import seaborn as sns\n",
    "import matplotlib.pyplot as plt\n",
    "from matplotlib.backends import backend_pdf as bpdf\n",
    "import numpy as np\n",
    "import scipy as sp\n",
    "colors = sns.color_palette()\n",
    "%matplotlib inline\n",
    "\n",
    "# Community selection package\n",
    "from community_selection import *\n",
    "from community_selection.A_experiment_functions import *\n",
    "from community_selection.B_community_phenotypes import *\n",
    "from community_selection.C_selection_algorithms import *\n",
    "from community_selection.D_migration_algorithms import *"
   ]
  },
  {
   "cell_type": "code",
   "execution_count": 2,
   "metadata": {},
   "outputs": [
    {
     "data": {
      "text/html": [
       "<div>\n",
       "<style scoped>\n",
       "    .dataframe tbody tr th:only-of-type {\n",
       "        vertical-align: middle;\n",
       "    }\n",
       "\n",
       "    .dataframe tbody tr th {\n",
       "        vertical-align: top;\n",
       "    }\n",
       "\n",
       "    .dataframe thead th {\n",
       "        text-align: right;\n",
       "    }\n",
       "</style>\n",
       "<table border=\"1\" class=\"dataframe\">\n",
       "  <thead>\n",
       "    <tr style=\"text-align: right;\">\n",
       "      <th></th>\n",
       "      <th>AlgorithmType</th>\n",
       "      <th>AlgorithmName</th>\n",
       "    </tr>\n",
       "  </thead>\n",
       "  <tbody>\n",
       "    <tr>\n",
       "      <th>0</th>\n",
       "      <td>community_phenotype</td>\n",
       "      <td>f1_additive</td>\n",
       "    </tr>\n",
       "    <tr>\n",
       "      <th>1</th>\n",
       "      <td>community_phenotype</td>\n",
       "      <td>f2_interaction</td>\n",
       "    </tr>\n",
       "    <tr>\n",
       "      <th>2</th>\n",
       "      <td>community_phenotype</td>\n",
       "      <td>f3_additive_binary</td>\n",
       "    </tr>\n",
       "    <tr>\n",
       "      <th>3</th>\n",
       "      <td>community_phenotype</td>\n",
       "      <td>f4_interaction_binary</td>\n",
       "    </tr>\n",
       "    <tr>\n",
       "      <th>4</th>\n",
       "      <td>community_phenotype</td>\n",
       "      <td>f5_invader_growth</td>\n",
       "    </tr>\n",
       "    <tr>\n",
       "      <th>5</th>\n",
       "      <td>community_phenotype</td>\n",
       "      <td>f6_resident_growth</td>\n",
       "    </tr>\n",
       "    <tr>\n",
       "      <th>0</th>\n",
       "      <td>selection_algorithm</td>\n",
       "      <td>no_selection</td>\n",
       "    </tr>\n",
       "    <tr>\n",
       "      <th>1</th>\n",
       "      <td>selection_algorithm</td>\n",
       "      <td>select_top25percent</td>\n",
       "    </tr>\n",
       "    <tr>\n",
       "      <th>2</th>\n",
       "      <td>selection_algorithm</td>\n",
       "      <td>select_top10percent</td>\n",
       "    </tr>\n",
       "    <tr>\n",
       "      <th>3</th>\n",
       "      <td>selection_algorithm</td>\n",
       "      <td>select_bottom25percent</td>\n",
       "    </tr>\n",
       "    <tr>\n",
       "      <th>4</th>\n",
       "      <td>selection_algorithm</td>\n",
       "      <td>pool_top25percent</td>\n",
       "    </tr>\n",
       "    <tr>\n",
       "      <th>5</th>\n",
       "      <td>selection_algorithm</td>\n",
       "      <td>pair_top</td>\n",
       "    </tr>\n",
       "    <tr>\n",
       "      <th>6</th>\n",
       "      <td>selection_algorithm</td>\n",
       "      <td>direct_selection_select</td>\n",
       "    </tr>\n",
       "    <tr>\n",
       "      <th>0</th>\n",
       "      <td>migration_algorithm</td>\n",
       "      <td>no_migration</td>\n",
       "    </tr>\n",
       "    <tr>\n",
       "      <th>1</th>\n",
       "      <td>migration_algorithm</td>\n",
       "      <td>direct_selection_migrate</td>\n",
       "    </tr>\n",
       "    <tr>\n",
       "      <th>2</th>\n",
       "      <td>migration_algorithm</td>\n",
       "      <td>migrate_half</td>\n",
       "    </tr>\n",
       "    <tr>\n",
       "      <th>3</th>\n",
       "      <td>migration_algorithm</td>\n",
       "      <td>migrate_random</td>\n",
       "    </tr>\n",
       "  </tbody>\n",
       "</table>\n",
       "</div>"
      ],
      "text/plain": [
       "         AlgorithmType             AlgorithmName\n",
       "0  community_phenotype               f1_additive\n",
       "1  community_phenotype            f2_interaction\n",
       "2  community_phenotype        f3_additive_binary\n",
       "3  community_phenotype     f4_interaction_binary\n",
       "4  community_phenotype         f5_invader_growth\n",
       "5  community_phenotype        f6_resident_growth\n",
       "0  selection_algorithm              no_selection\n",
       "1  selection_algorithm       select_top25percent\n",
       "2  selection_algorithm       select_top10percent\n",
       "3  selection_algorithm    select_bottom25percent\n",
       "4  selection_algorithm         pool_top25percent\n",
       "5  selection_algorithm                  pair_top\n",
       "6  selection_algorithm   direct_selection_select\n",
       "0  migration_algorithm              no_migration\n",
       "1  migration_algorithm  direct_selection_migrate\n",
       "2  migration_algorithm              migrate_half\n",
       "3  migration_algorithm            migrate_random"
      ]
     },
     "execution_count": 2,
     "metadata": {},
     "output_type": "execute_result"
    }
   ],
   "source": [
    "make_algorithm_library()"
   ]
  },
  {
   "cell_type": "code",
   "execution_count": 22,
   "metadata": {},
   "outputs": [],
   "source": [
    "# Make dynanmics by default we will use the microbial consumer resource model\n",
    "def dNdt(N,R,params):\n",
    "    return MakeConsumerDynamics(assumptions)(N,R,params)\n",
    "def dRdt(N,R,params):\n",
    "    return MakeResourceDynamics(assumptions)(N,R,params)\n",
    "dynamics = [dNdt,dRdt]\n",
    "\n",
    "# Global parameters\n",
    "## Default parameters from community-simulator\n",
    "## !!!Don't touch this dictionary!!!\n",
    "assumptions = a_default.copy() # Start with default parameters\n",
    "a_default = {'sampling':'Binary', #{'Gaussian','Binary','Gamma'} specifies choice of sampling algorithm\n",
    "            'SA': 60*np.ones(3), #Number of species in each specialist family (here, 3 families of 60 species)\n",
    "            'MA': 30*np.ones(3), #Number of resources in each class \n",
    "            'Sgen': 30, #Number of generalist species (unbiased sampling over alll resource classes)\n",
    "            'muc': 10, #Mean sum of consumption rates (used in all models)\n",
    "            'sigc': 3, #Standard deviation of sum of consumption rates for Gaussian and Gamma models\n",
    "            'q': 0.0, #Preference strength of specialist families (0 for generalist and 1 for specialist)\n",
    "            'c0':0.0, #Sum of background consumption rates in binary model\n",
    "            'c1':1., #Specific consumption rate in binary model\n",
    "            'l':0.8, #Leakage fraction\n",
    "            'fs':0.45, #Fraction of secretion flux with same resource type\n",
    "            'fw':0.45, #Fraction of secretion flux to 'waste' resource\n",
    "            'sparsity':0.2, #Effective sparsity of metabolic matrix (between 0 and 1)\n",
    "            'n_wells':10, #Number of independent wells\n",
    "            'S':100, #Number of species per well (randomly sampled from the pool of size Stot = sum(SA) + Sgen)\n",
    "            'food':0, #index of food source (when a single resource is supplied externally)\n",
    "            'R0_food':1000, #unperturbed fixed point for supplied food\n",
    "            'regulation':'independent', #metabolic regulation (see dRdt)\n",
    "            'response':'type I', #functional response (see dRdt)\n",
    "            'supply':'off' #resource supply (see dRdt)\n",
    "            }\n",
    "\n",
    "## Update parameters for community-selection\n",
    "assumptions.update({\n",
    "    'SA': 60*np.ones(3), #Number of species in each specialist family (here, 3 families of 60 species)\n",
    "    'MA': 30*np.ones(3), #Number of resources in each class \n",
    "    'Sgen': 30, #Number of generalist species (unbiased sampling over alll resource classes)\n",
    "    \"n_wells\": 24,\n",
    "    \"c1\": 1, #Rescale uptake rate part 1. This is needed to avoid numerical errors that slow down the simulations\n",
    "    \"muc\": 10, # Rescale uptake part 2\n",
    "    \"m\": 0, # Mortality\n",
    "    \"scale\": 10**6,  #scale is a conversion factor specifying the number of individual microbial cells present when N = 1.\n",
    "    \"sigma\" : 1, # Standard deviation for drawing specifc speices/interaction function\n",
    "    \"alpha\": 1, # Scaling factor between species- and interaction-specific function variances\n",
    "    \"response\": \"type III\",\n",
    "    \"sigma_max\": 100,  # The maximal resource  \n",
    "    'R0_food': 1000, #unperturbed fixed point for supplied food\n",
    "    # The parameters below will be passed to params_simulation\n",
    "    \"n_propagation\": 8, # Length of propagation, or hours within a growth cycle\n",
    "    \"n_transfer\": 40, # Number of total transfer, or number of passage\n",
    "    \"n_transfer_selection\": 20, # Number of transfer implementing seleciton regimes \n",
    "    \"dilution\": 1/125, # Dilution factor at every transfer\n",
    "    \"n_inoc\": 128,  #Number of cells sampled from the regional species at start\n",
    "    \"selected_function\": \"f1_additive\"\n",
    "})\n",
    "\n",
    "# Prepare experiment setup in this universe\n",
    "params, params_simulation = prepare_experiment(assumptions, seed = 1)\n",
    "\n"
   ]
  },
  {
   "cell_type": "code",
   "execution_count": 10,
   "metadata": {},
   "outputs": [
    {
     "name": "stdout",
     "output_type": "stream",
     "text": [
      "\n",
      "Generating initial plate\n"
     ]
    }
   ],
   "source": [
    "# Set seeds\n",
    "np.random.seed(2)\n",
    "\n",
    "# Make initial state\n",
    "init_state = MakeInitialState(assumptions)\n",
    "\n",
    "# Make plate\n",
    "plate = Community(init_state, dynamics, params, scale = assumptions[\"scale\"], parallel = True) \n",
    "\n",
    "# Update the community composition by sampling from the pool\n",
    "print(\"\\nGenerating initial plate\")\n",
    "plate.N = sample_from_pool(plate.N, scale = assumptions[\"scale\"], inocula = params_simulation[\"n_inoc\"], two_pools = False, initial_inocula_pool = True)\n",
    "\n",
    "\n",
    "# \n",
    "plate_R = plate.R.copy()\n",
    "\n",
    "# Total number of species in this universe\n",
    "R_tot = plate_R.shape[0] \n",
    "\n",
    "# Make empty plate\n",
    "N0 = np.zeros((plate_R.shape)) # Make empty plate\n",
    "\n",
    "# Consumer index\n",
    "resource_index = plate_R.index \n",
    "\n",
    "# Well index\n",
    "well_names = plate_R.columns\n"
   ]
  },
  {
   "cell_type": "code",
   "execution_count": 19,
   "metadata": {},
   "outputs": [
    {
     "data": {
      "text/plain": [
       "11.11111111111111"
      ]
     },
     "execution_count": 19,
     "metadata": {},
     "output_type": "execute_result"
    }
   ],
   "source": [
    "\n",
    "assumptions[\"R0_food\"] / int(np.sum(assumptions[\"MA\"]))"
   ]
  },
  {
   "cell_type": "code",
   "execution_count": null,
   "metadata": {},
   "outputs": [],
   "source": []
  },
  {
   "cell_type": "code",
   "execution_count": 23,
   "metadata": {},
   "outputs": [
    {
     "name": "stdout",
     "output_type": "stream",
     "text": [
      "\n",
      "Algorithm: simple_screening\n",
      "\n",
      "\n",
      " transfer community_phenotype selection_algorithm migration_algorithm\n",
      "        1         f1_additive        no_selection        no_migration\n",
      "        2         f1_additive        no_selection        no_migration\n",
      "        3         f1_additive        no_selection        no_migration\n",
      "        4         f1_additive        no_selection        no_migration\n",
      "        5         f1_additive        no_selection        no_migration\n",
      "        6         f1_additive        no_selection        no_migration\n",
      "        7         f1_additive        no_selection        no_migration\n",
      "        8         f1_additive        no_selection        no_migration\n",
      "        9         f1_additive        no_selection        no_migration\n",
      "       10         f1_additive        no_selection        no_migration\n",
      "       11         f1_additive        no_selection        no_migration\n",
      "       12         f1_additive        no_selection        no_migration\n",
      "       13         f1_additive        no_selection        no_migration\n",
      "       14         f1_additive        no_selection        no_migration\n",
      "       15         f1_additive        no_selection        no_migration\n",
      "       16         f1_additive        no_selection        no_migration\n",
      "       17         f1_additive        no_selection        no_migration\n",
      "       18         f1_additive        no_selection        no_migration\n",
      "       19         f1_additive        no_selection        no_migration\n",
      "       20         f1_additive        no_selection        no_migration\n",
      "       21         f1_additive        no_selection        no_migration\n",
      "       22         f1_additive        no_selection        no_migration\n",
      "       23         f1_additive        no_selection        no_migration\n",
      "       24         f1_additive        no_selection        no_migration\n",
      "       25         f1_additive        no_selection        no_migration\n",
      "       26         f1_additive        no_selection        no_migration\n",
      "       27         f1_additive        no_selection        no_migration\n",
      "       28         f1_additive        no_selection        no_migration\n",
      "       29         f1_additive        no_selection        no_migration\n",
      "       30         f1_additive        no_selection        no_migration\n",
      "       31         f1_additive        no_selection        no_migration\n",
      "       32         f1_additive        no_selection        no_migration\n",
      "       33         f1_additive        no_selection        no_migration\n",
      "       34         f1_additive        no_selection        no_migration\n",
      "       35         f1_additive        no_selection        no_migration\n",
      "       36         f1_additive        no_selection        no_migration\n",
      "       37         f1_additive        no_selection        no_migration\n",
      "       38         f1_additive        no_selection        no_migration\n",
      "       39         f1_additive        no_selection        no_migration\n",
      "       40         f1_additive        no_selection        no_migration\n",
      "\n",
      "Generating initial plate\n",
      "\n",
      "Adding attributes that are essential to the community function to the plate object\n",
      "\n",
      "Start propogation\n",
      "Transfer 1\n",
      "Transfer 6\n",
      "Transfer 11\n",
      "Transfer 16\n",
      "Transfer 21\n",
      "Transfer 26\n",
      "Transfer 31\n",
      "Transfer 36\n",
      "\n",
      "Algorithm simple_screening finished\n"
     ]
    }
   ],
   "source": [
    "data_directory = \"data/typeIII-24wells-rich_medium/\"\n",
    "list_phenotypes = [\"f1_additive\"]\n",
    "#list_phenotypes = [\"f1_additive\", \"f2_interaction\", \"f3_additive_binary\", \"f4_interaction_binary\"]\n",
    "list_algorithms = [\"simple_screening\"]\n",
    "#list_algorithms = [\"simple_screening\", \"swenson2000\", \"direct_selection\", \"panke_buisse2015\", \"pair_top_communities\", \"multiple_pair_top\"]\n",
    "\n",
    "\n",
    "for j in range(len(list_phenotypes)):\n",
    "    # Parameters for simulation\n",
    "    params_simulation.update({\"selected_function\": list_phenotypes[j]}) # selected function\n",
    "\n",
    "    # Make the list of algorithms\n",
    "    algorithms = make_algorithms(params_simulation)\n",
    "    \n",
    "    # Simulation\n",
    "    for i in range(len(list_algorithms)):\n",
    "        simulate_community(\n",
    "            assumptions = assumptions,\n",
    "            params = params,\n",
    "            dynamics = dynamics,\n",
    "            params_simulation = params_simulation, \n",
    "            params_algorithm = algorithms[algorithms[\"algorithm_name\"] == list_algorithms[i]], \n",
    "            write_composition = True,\n",
    "            file_name = data_directory + list_algorithms[i],\n",
    "            assembly_type = str(list_algorithms[i]),\n",
    "        )\n",
    "        "
   ]
  },
  {
   "cell_type": "markdown",
   "metadata": {},
   "source": [
    "# F1: additive function \n",
    "$f_1=\\sum{\\lambda_i n_i}$"
   ]
  },
  {
   "cell_type": "code",
   "execution_count": 5,
   "metadata": {},
   "outputs": [
    {
     "name": "stdout",
     "output_type": "stream",
     "text": [
      "\n",
      "Algorithm: simple_screening\n",
      "\n",
      "\n",
      " transfer community_phenotype selection_algorithm migration_algorithm\n",
      "        1         f1_additive        no_selection        no_migration\n",
      "        2         f1_additive        no_selection        no_migration\n",
      "        3         f1_additive        no_selection        no_migration\n",
      "        4         f1_additive        no_selection        no_migration\n",
      "        5         f1_additive        no_selection        no_migration\n",
      "        6         f1_additive        no_selection        no_migration\n",
      "        7         f1_additive        no_selection        no_migration\n",
      "        8         f1_additive        no_selection        no_migration\n",
      "        9         f1_additive        no_selection        no_migration\n",
      "       10         f1_additive        no_selection        no_migration\n",
      "       11         f1_additive        no_selection        no_migration\n",
      "       12         f1_additive        no_selection        no_migration\n",
      "       13         f1_additive        no_selection        no_migration\n",
      "       14         f1_additive        no_selection        no_migration\n",
      "       15         f1_additive        no_selection        no_migration\n",
      "       16         f1_additive        no_selection        no_migration\n",
      "       17         f1_additive        no_selection        no_migration\n",
      "       18         f1_additive        no_selection        no_migration\n",
      "       19         f1_additive        no_selection        no_migration\n",
      "       20         f1_additive        no_selection        no_migration\n",
      "       21         f1_additive        no_selection        no_migration\n",
      "       22         f1_additive        no_selection        no_migration\n",
      "       23         f1_additive        no_selection        no_migration\n",
      "       24         f1_additive        no_selection        no_migration\n",
      "       25         f1_additive        no_selection        no_migration\n",
      "       26         f1_additive        no_selection        no_migration\n",
      "       27         f1_additive        no_selection        no_migration\n",
      "       28         f1_additive        no_selection        no_migration\n",
      "       29         f1_additive        no_selection        no_migration\n",
      "       30         f1_additive        no_selection        no_migration\n",
      "       31         f1_additive        no_selection        no_migration\n",
      "       32         f1_additive        no_selection        no_migration\n",
      "       33         f1_additive        no_selection        no_migration\n",
      "       34         f1_additive        no_selection        no_migration\n",
      "       35         f1_additive        no_selection        no_migration\n",
      "       36         f1_additive        no_selection        no_migration\n",
      "       37         f1_additive        no_selection        no_migration\n",
      "       38         f1_additive        no_selection        no_migration\n",
      "       39         f1_additive        no_selection        no_migration\n",
      "       40         f1_additive        no_selection        no_migration\n",
      "\n",
      "Generating initial plate\n",
      "\n",
      "Adding attributes that are essential to the community function to the plate object\n",
      "\n",
      "Start propogation\n",
      "Transfer 1\n",
      "Transfer 6\n",
      "Transfer 11\n",
      "Transfer 16\n",
      "Transfer 21\n",
      "Transfer 26\n",
      "Transfer 31\n",
      "Transfer 36\n",
      "\n",
      "Algorithm simple_screening finished\n"
     ]
    }
   ],
   "source": [
    "# Parameters for simulation\n",
    "params_simulation.update({\"selected_function\": \"f1_additive\"}) # selected function\n",
    "\n",
    "# Make the list of algorithms\n",
    "algorithms = make_algorithms(params_simulation)\n",
    "list_algorithms = [\"select_top25percent\", \"simple_screening\"]\n",
    "\n",
    "# Simulation\n",
    "tested_algorithm = \"simple_screening\"\n",
    "f1_ctrl = simulate_community(assumptions = assumptions, params = params, dynamics = dynamics, params_simulation = params_simulation, write_composition = False,\n",
    "                             params_algorithm = algorithms[algorithms[\"algorithm_name\"] == tested_algorithm], assembly_type = str(tested_algorithm))\n"
   ]
  },
  {
   "cell_type": "code",
   "execution_count": 6,
   "metadata": {},
   "outputs": [
    {
     "data": {
      "image/png": "[encoded data removed]",
      "text/plain": [
       "<Figure size 432x288 with 1 Axes>"
      ]
     },
     "metadata": {
      "needs_background": "light"
     },
     "output_type": "display_data"
    },
    {
     "data": {
      "image/png": "[encoded data removed]",
      "text/plain": [
       "<Figure size 432x288 with 1 Axes>"
      ]
     },
     "metadata": {
      "needs_background": "light"
     },
     "output_type": "display_data"
    }
   ],
   "source": [
    "plot_community_function(f1_ctrl)\n",
    "plot_community_function(f1_selc)"
   ]
  },
  {
   "cell_type": "code",
   "execution_count": 4,
   "metadata": {},
   "outputs": [],
   "source": [
    "def select_community(params_algorithm = {\"community_phenotype\": \"f1_community_function_additive\", \"selection_algorithm\": \"select_top25percent\", \"migration_algorithm\": \"no_migration\"}):\n",
    "    \"\"\"\n",
    "    Wrapper function for running control(screening) and selection given the selection algorithms and communtiy phenotype\n",
    "    \"\"\"\n",
    "    # Control plate\n",
    "    np.random.seed(2)\n",
    "    # Make initial state\n",
    "    init_state = MakeInitialState(assumptions)\n",
    "    # Make plate\n",
    "    plate = Community(init_state, dynamics, params, scale = 10**6, parallel = True) \n",
    "    setattr(plate, \"species_function\", species_function)\n",
    "    setattr(plate, \"interaction_function\", interaction_function)\n",
    "    # Simulation\n",
    "    ctrl_plate_df, ctrl_function_df = simulate_community(plate, assumptions = assumptions, params_simulation = params_simulation, params_algorithm = {\"community_phenotype\": params_algorithm[\"community_phenotype\"], \"selection_algorithm\": \"no_selection\", \"migration_algorithm\": params_algorithm[\"migration_algorithm\"]}, write_composition = False)\n",
    "\n",
    "    # Selection plate\n",
    "    np.random.seed(2)\n",
    "    # Make initial state\n",
    "    init_state = MakeInitialState(assumptions)\n",
    "    # Make plate\n",
    "    plate = Community(init_state, dynamics, params, scale = 10**6, parallel = True) \n",
    "    setattr(plate, \"species_function\", species_function)\n",
    "    setattr(plate, \"interaction_function\", interaction_function)\n",
    "    # Simulation\n",
    "    selection_plate_df, selection_function_df = simulate_community(plate, assumptions = assumptions, params_simulation = params_simulation, params_algorithm = params_algorithm, write_composition = False)\n",
    "\n",
    "    return ctrl_function_df, selection_function_df"
   ]
  },
  {
   "cell_type": "markdown",
   "metadata": {},
   "source": [
    "# F2: additive function with interaction term\n",
    "$f_2=\\sum{\\lambda_i n_i} + \\sum{\\lambda_{ij} n_i n_j}$"
   ]
  },
  {
   "cell_type": "code",
   "execution_count": 13,
   "metadata": {},
   "outputs": [
    {
     "name": "stdout",
     "output_type": "stream",
     "text": [
      "Transfer 1 done\n",
      "Transfer 2 done\n",
      "Transfer 3 done\n",
      "Transfer 4 done\n",
      "Transfer 5 done\n",
      "Transfer 1 done\n",
      "Transfer 2 done\n",
      "Transfer 3 done\n",
      "Transfer 4 done\n",
      "Transfer 5 done\n"
     ]
    }
   ],
   "source": [
    "f2_ctrl, f2_selc = select_community(params_algorithm = {\"community_phenotype\": \"f2_interaction\", \"selection_algorithm\": \"select_top25percent\", \"migration_algorithm\": \"no_migration\"})"
   ]
  },
  {
   "cell_type": "code",
   "execution_count": 15,
   "metadata": {},
   "outputs": [
    {
     "data": {
      "image/png": "[encoded data removed]",
      "text/plain": [
       "<Figure size 432x288 with 1 Axes>"
      ]
     },
     "metadata": {
      "needs_background": "light"
     },
     "output_type": "display_data"
    },
    {
     "data": {
      "image/png": "[encoded data removed]",
      "text/plain": [
       "<Figure size 432x288 with 1 Axes>"
      ]
     },
     "metadata": {
      "needs_background": "light"
     },
     "output_type": "display_data"
    }
   ],
   "source": [
    "plot_community_function(f2_ctrl)\n",
    "plot_community_function(f2_selc)"
   ]
  },
  {
   "cell_type": "markdown",
   "metadata": {},
   "source": [
    "# F3: binary additive function\n",
    "$f_3 = \\sum{\\lambda_i}$"
   ]
  },
  {
   "cell_type": "code",
   "execution_count": 16,
   "metadata": {},
   "outputs": [
    {
     "name": "stdout",
     "output_type": "stream",
     "text": [
      "Transfer 1 done\n",
      "Transfer 2 done\n",
      "Transfer 3 done\n",
      "Transfer 4 done\n",
      "Transfer 5 done\n",
      "Transfer 1 done\n",
      "Transfer 2 done\n",
      "Transfer 3 done\n",
      "Transfer 4 done\n",
      "Transfer 5 done\n"
     ]
    }
   ],
   "source": [
    "f3_ctrl, f3_selc = select_community(params_algorithm = {\"community_phenotype\": \"f3_additive_binary\", \"selection_algorithm\": \"select_top25percent\", \"migration_algorithm\": \"no_migration\"})"
   ]
  },
  {
   "cell_type": "code",
   "execution_count": 17,
   "metadata": {},
   "outputs": [
    {
     "data": {
      "image/png": "[encoded data removed]",
      "text/plain": [
       "<Figure size 432x288 with 1 Axes>"
      ]
     },
     "metadata": {
      "needs_background": "light"
     },
     "output_type": "display_data"
    },
    {
     "data": {
      "image/png": "[encoded data removed]",
      "text/plain": [
       "<Figure size 432x288 with 1 Axes>"
      ]
     },
     "metadata": {
      "needs_background": "light"
     },
     "output_type": "display_data"
    }
   ],
   "source": [
    "plot_community_function(f3_ctrl)\n",
    "plot_community_function(f3_selc)"
   ]
  },
  {
   "cell_type": "markdown",
   "metadata": {},
   "source": [
    "# F4: binary addtive function with interactions\n",
    "$f_4 = \\sum{\\lambda_i} + \\sum{\\lambda_{ij}}$"
   ]
  },
  {
   "cell_type": "code",
   "execution_count": 18,
   "metadata": {},
   "outputs": [
    {
     "name": "stdout",
     "output_type": "stream",
     "text": [
      "Transfer 1 done\n",
      "Transfer 2 done\n",
      "Transfer 3 done\n",
      "Transfer 4 done\n",
      "Transfer 5 done\n",
      "Transfer 1 done\n",
      "Transfer 2 done\n",
      "Transfer 3 done\n",
      "Transfer 4 done\n",
      "Transfer 5 done\n"
     ]
    }
   ],
   "source": [
    "f4_ctrl, f4_selc = select_community(params_algorithm = {\"community_phenotype\": \"f4_interaction_binary\", \"selection_algorithm\": \"select_top25percent\", \"migration_algorithm\": \"no_migration\"})"
   ]
  },
  {
   "cell_type": "code",
   "execution_count": 19,
   "metadata": {},
   "outputs": [
    {
     "data": {
      "image/png": "[encoded data removed]",
      "text/plain": [
       "<Figure size 432x288 with 1 Axes>"
      ]
     },
     "metadata": {
      "needs_background": "light"
     },
     "output_type": "display_data"
    },
    {
     "data": {
      "image/png": "[encoded data removed]",
      "text/plain": [
       "<Figure size 432x288 with 1 Axes>"
      ]
     },
     "metadata": {
      "needs_background": "light"
     },
     "output_type": "display_data"
    }
   ],
   "source": [
    "plot_community_function(f4_ctrl)\n",
    "plot_community_function(f4_selc)"
   ]
  },
  {
   "cell_type": "markdown",
   "metadata": {},
   "source": [
    "# F5: resistence\n",
    "$f_5 = x_p(t)/x_p(0)$, where $x_p(t)$ is the invasive pathgen biomass after growing with the community, $x_p(0)$ is the invasive pathogen biomass at the time of invasion "
   ]
  },
  {
   "cell_type": "code",
   "execution_count": 20,
   "metadata": {},
   "outputs": [
    {
     "name": "stdout",
     "output_type": "stream",
     "text": [
      "Transfer 1 done\n",
      "Transfer 2 done\n",
      "Transfer 3 done\n",
      "Transfer 4 done\n",
      "Transfer 5 done\n",
      "Transfer 1 done\n",
      "Transfer 2 done\n",
      "Transfer 3 done\n",
      "Transfer 4 done\n",
      "Transfer 5 done\n"
     ]
    }
   ],
   "source": [
    "f5_ctrl, f5_selc = select_community(params_algorithm = {\"community_phenotype\": \"f5_invasion_growth\", \"selection_algorithm\": \"select_top25percent\", \"migration_algorithm\": \"no_migration\"})"
   ]
  },
  {
   "cell_type": "code",
   "execution_count": 21,
   "metadata": {},
   "outputs": [
    {
     "data": {
      "image/png": "[encoded data removed]",
      "text/plain": [
       "<Figure size 432x288 with 1 Axes>"
      ]
     },
     "metadata": {
      "needs_background": "light"
     },
     "output_type": "display_data"
    },
    {
     "data": {
      "image/png": "[encoded data removed]",
      "text/plain": [
       "<Figure size 432x288 with 1 Axes>"
      ]
     },
     "metadata": {
      "needs_background": "light"
     },
     "output_type": "display_data"
    }
   ],
   "source": [
    "plot_community_function(f5_ctrl)\n",
    "plot_community_function(f5_selc)"
   ]
  },
  {
   "cell_type": "markdown",
   "metadata": {},
   "source": [
    "\n",
    "\n",
    "# F6: resident growth\n",
    "$f_6 = x_p(t)/x_p^*(t)$, where $x_p(t)$ is the pathogen biomass grown with the coalscenced community, $x_p^*(t)$ is the pathogen biomass grown with its residential community"
   ]
  },
  {
   "cell_type": "code",
   "execution_count": 5,
   "metadata": {},
   "outputs": [
    {
     "name": "stdout",
     "output_type": "stream",
     "text": [
      "Transfer 1 done\n",
      "Transfer 2 done\n",
      "Transfer 3 done\n",
      "Transfer 4 done\n",
      "Transfer 5 done\n",
      "Transfer 1 done\n",
      "Transfer 2 done\n",
      "Transfer 3 done\n",
      "Transfer 4 done\n",
      "Transfer 5 done\n"
     ]
    }
   ],
   "source": [
    "f6_ctrl, f6_selc = select_community(params_algorithm = {\"community_phenotype\": \"f6_resident_growth\", \"selection_algorithm\": \"select_top25percent\", \"migration_algorithm\": \"no_migration\"})"
   ]
  },
  {
   "cell_type": "code",
   "execution_count": 6,
   "metadata": {},
   "outputs": [
    {
     "data": {
      "image/png": "[encoded data removed]",
      "text/plain": [
       "<Figure size 432x288 with 1 Axes>"
      ]
     },
     "metadata": {
      "needs_background": "light"
     },
     "output_type": "display_data"
    },
    {
     "data": {
      "image/png": "[encoded data removed]",
      "text/plain": [
       "<Figure size 432x288 with 1 Axes>"
      ]
     },
     "metadata": {
      "needs_background": "light"
     },
     "output_type": "display_data"
    }
   ],
   "source": [
    "plot_community_function(f6_ctrl)\n",
    "plot_community_function(f6_selc)"
   ]
  },
  {
   "cell_type": "markdown",
   "metadata": {},
   "source": [
    "# Output the result\n"
   ]
  },
  {
   "cell_type": "code",
   "execution_count": 3,
   "metadata": {},
   "outputs": [
    {
     "data": {
      "text/html": [
       "<div>\n",
       "<style scoped>\n",
       "    .dataframe tbody tr th:only-of-type {\n",
       "        vertical-align: middle;\n",
       "    }\n",
       "\n",
       "    .dataframe tbody tr th {\n",
       "        vertical-align: top;\n",
       "    }\n",
       "\n",
       "    .dataframe thead th {\n",
       "        text-align: right;\n",
       "    }\n",
       "</style>\n",
       "<table border=\"1\" class=\"dataframe\">\n",
       "  <thead>\n",
       "    <tr style=\"text-align: right;\">\n",
       "      <th></th>\n",
       "      <th>AlgorithmType</th>\n",
       "      <th>AlgorithmName</th>\n",
       "    </tr>\n",
       "  </thead>\n",
       "  <tbody>\n",
       "    <tr>\n",
       "      <th>0</th>\n",
       "      <td>community_phenotype</td>\n",
       "      <td>f1_community_function_additive</td>\n",
       "    </tr>\n",
       "    <tr>\n",
       "      <th>1</th>\n",
       "      <td>community_phenotype</td>\n",
       "      <td>f2_community_function_interaction</td>\n",
       "    </tr>\n",
       "    <tr>\n",
       "      <th>2</th>\n",
       "      <td>community_phenotype</td>\n",
       "      <td>f3_community_function_additive_binary</td>\n",
       "    </tr>\n",
       "    <tr>\n",
       "      <th>3</th>\n",
       "      <td>community_phenotype</td>\n",
       "      <td>f4_community_function_interaction_binary</td>\n",
       "    </tr>\n",
       "    <tr>\n",
       "      <th>4</th>\n",
       "      <td>community_phenotype</td>\n",
       "      <td>f5_invasion_growth</td>\n",
       "    </tr>\n",
       "    <tr>\n",
       "      <th>5</th>\n",
       "      <td>community_phenotype</td>\n",
       "      <td>f6_resident_growth</td>\n",
       "    </tr>\n",
       "    <tr>\n",
       "      <th>0</th>\n",
       "      <td>selection_algorithm</td>\n",
       "      <td>no_selection</td>\n",
       "    </tr>\n",
       "    <tr>\n",
       "      <th>1</th>\n",
       "      <td>selection_algorithm</td>\n",
       "      <td>select_top25percent</td>\n",
       "    </tr>\n",
       "    <tr>\n",
       "      <th>2</th>\n",
       "      <td>selection_algorithm</td>\n",
       "      <td>select_bottom25percent</td>\n",
       "    </tr>\n",
       "    <tr>\n",
       "      <th>0</th>\n",
       "      <td>migration_algorithm</td>\n",
       "      <td>no_migration</td>\n",
       "    </tr>\n",
       "    <tr>\n",
       "      <th>1</th>\n",
       "      <td>migration_algorithm</td>\n",
       "      <td>migration_factor_from_function</td>\n",
       "    </tr>\n",
       "  </tbody>\n",
       "</table>\n",
       "</div>"
      ],
      "text/plain": [
       "         AlgorithmType                             AlgorithmName\n",
       "0  community_phenotype            f1_community_function_additive\n",
       "1  community_phenotype         f2_community_function_interaction\n",
       "2  community_phenotype     f3_community_function_additive_binary\n",
       "3  community_phenotype  f4_community_function_interaction_binary\n",
       "4  community_phenotype                        f5_invasion_growth\n",
       "5  community_phenotype                        f6_resident_growth\n",
       "0  selection_algorithm                              no_selection\n",
       "1  selection_algorithm                       select_top25percent\n",
       "2  selection_algorithm                    select_bottom25percent\n",
       "0  migration_algorithm                              no_migration\n",
       "1  migration_algorithm            migration_factor_from_function"
      ]
     },
     "execution_count": 3,
     "metadata": {},
     "output_type": "execute_result"
    }
   ],
   "source": [
    "def concat_result(f_ctrl, f_selc, species_pool_seed, phenotype_algorithm = \"f6_resident_growth\", selection_algorithm = \"select_best_n\"):\n",
    "    \"\"\"\n",
    "    Concatenate the result data.frame from control (no-selection) and selection experiment\n",
    "    \"\"\"\n",
    "    # \n",
    "    f_ctrl[\"Experiment\"] = \"control\"\n",
    "    f_selc[\"Experiment\"] = \"selection\"\n",
    "    \n",
    "    #\n",
    "    f_result = pd.concat([f_ctrl, f_selc])\n",
    "    f_result[\"SelectionAlgorithmName\"] = selection_algorithm\n",
    "    f_result[\"CommunityPhenotypeName\"] = phenotype_algorithm\n",
    "    f_result[\"SpeciesPool\"] = species_pool_seed\n",
    "\n",
    "    # Write the result\n",
    "    f_result.to_csv(\"data/\" + selection_algorithm + \"-\" + phenotype_algorithm + \"-pool\" + str(species_pool_seed) + \".txt\", index = False)\n"
   ]
  },
  {
   "cell_type": "code",
   "execution_count": 62,
   "metadata": {},
   "outputs": [],
   "source": [
    "concat_result(f_ctrl, f_selc, 1,  phenotype_algorithm = \"f1_community_function_additive\", selection_algorithm = \"select_top25percent\")\n",
    "concat_result(f_ctrl, f_selc, 1,  phenotype_algorithm = \"f2_community_function_interaction\", selection_algorithm = \"select_top25percent\")\n",
    "concat_result(f_ctrl, f_selc, 1,  phenotype_algorithm = \"f3_community_function_additive_binary\", selection_algorithm = \"select_top25percent\")\n",
    "concat_result(f_ctrl, f_selc, 1,  phenotype_algorithm = \"f4_community_function_interaction_binary\", selection_algorithm = \"select_top25percent\")\n",
    "concat_result(f_ctrl, f_selc, 1,  phenotype_algorithm = \"f5_invasion_growth\", selection_algorithm = \"select_top25percent\")\n",
    "concat_result(f_ctrl, f_selc, 1,  phenotype_algorithm = \"f6_resident_growth\", selection_algorithm = \"select_top25percent\")\n"
   ]
  }
 ],
 "metadata": {
  "kernelspec": {
   "display_name": "Python 3",
   "language": "python",
   "name": "python3"
  },
  "language_info": {
   "codemirror_mode": {
    "name": "ipython",
    "version": 3
   },
   "file_extension": ".py",
   "mimetype": "text/x-python",
   "name": "python",
   "nbconvert_exporter": "python",
   "pygments_lexer": "ipython3",
   "version": "3.7.3"
  }
 },
 "nbformat": 4,
 "nbformat_minor": 2
}
