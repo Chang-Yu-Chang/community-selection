{
 "cells": [
  {
   "cell_type": "markdown",
   "metadata": {},
   "source": [
    "# EEB729- Breeding Microbial Communities 3\n",
    "\n",
    "Ok so this is a corrected notebook, similar to last week. Unlike in previous weeks you will only need to run this once to get all the data required for analysis.\n",
    "\n",
    "We'd like you all to run it with the same paramaters as we want to confirm that we get the same result across different computers. \n",
    "\n",
    "This hopefully should'nt take to long. Remember if you are on a windows change parallel from false to true whenever the .propagate command is used.\n",
    "\n",
    "Once you have the results, we'd like you to explore how the bottleneck size (b_ext = number of cells transferred)\n",
    "and migration size (m_ext = number of cells migrated in from the regional species pool) effects the distribution of our community function of interest. You should compare the function of mature parent and offspring communities (i.e at t = 20 and t = 40)"
   ]
  },
  {
   "cell_type": "markdown",
   "metadata": {},
   "source": [
    "# Load Packages"
   ]
  },
  {
   "cell_type": "code",
   "execution_count": 1,
   "metadata": {},
   "outputs": [],
   "source": [
    "from IPython.display import Image\n",
    "from community_simulator import *\n",
    "from community_simulator.usertools import *\n",
    "from community_simulator.visualization import *\n",
    "import seaborn as sns\n",
    "import matplotlib.pyplot as plt\n",
    "from matplotlib.backends import backend_pdf as bpdf\n",
    "import numpy as np\n",
    "import scipy as sp\n",
    "import pandas as pd\n",
    "colors = sns.color_palette()\n",
    "%matplotlib inline"
   ]
  },
  {
   "cell_type": "markdown",
   "metadata": {},
   "source": [
    "# Default Functions\n",
    "\n",
    "This chunk contains a set of functions and objects that you will need to perform community level selection. We are putting them all together so you can load them once and then they will be available in all subsequent chunks.  You will (hopefully) never need to change any of these functions/objects. "
   ]
  },
  {
   "cell_type": "code",
   "execution_count": 2,
   "metadata": {},
   "outputs": [],
   "source": [
    "#Make dynanmics by default we will use the Microbial consumer resource model\n",
    "def dNdt(N,R,params):\n",
    "    return MakeConsumerDynamics(assumptions)(N,R,params)\n",
    "def dRdt(N,R,params):\n",
    "    return MakeResourceDynamics(assumptions)(N,R,params)\n",
    "dynamics = [dNdt,dRdt]\n",
    "\n",
    "# Create a regional species pool\n",
    "def RegionalSpeciesPool(assumptions):\n",
    "    # Parameters\n",
    "    S_tot = int(np.sum(assumptions['SA'])+assumptions['Sgen']) # Total number of species (specialist + generalist)\n",
    "    F = len(assumptions['SA']) # Number of consumer families\n",
    "    consumer_names = ['S'+str(k) for k in range(S_tot)]\n",
    "    family_names = ['F'+str(k) for k in range(F)]\n",
    "    well_names = ['W'+str(k) for k in range(assumptions['n_wells'])]\n",
    "    consumer_index = [[family_names[m] for m in range(F) for k in range(assumptions['SA'][m])]\n",
    "    +['GEN' for k in range(assumptions['Sgen'])],consumer_names]\n",
    "    \n",
    "    # Assign drawn values based on power-law distribution\n",
    "    # Creating an array with M rows an n_wells columns with 0 entries\n",
    "    pool = np.random.power(1, size  = S_tot) \n",
    "    return pool/np.sum(pool)  # Relative species abundance in regional pool\n",
    "\n",
    "# Sample each communities from a different regional species pool\n",
    "def SampleFromPools(plate_N, scale=10**9, inocula=10**9):\n",
    "    S_tot = int(np.sum(assumptions['SA'])+assumptions['Sgen']) # Total number of species (specialist + generalist)\n",
    "    N0 = np.zeros((plate_N.shape))\n",
    "    consumer_index = plate_N.index\n",
    "    well_names = plate_N.columns\n",
    "    #PA_vector = np.concatenate((np.repeat(0,S_tot - Pool_Size),np.repeat(1,Pool_Size)))\n",
    "    #np.random.shuffle(PA_vector)\n",
    "    for k in range(plate_N.shape[1]):\n",
    "        pool = np.random.power(1, size  = S_tot) #* PA_vector\n",
    "        pool = pool/np.sum(pool)\n",
    "        consumer_list = np.random.choice(len(pool), size=inocula, replace=True, p=pool)\n",
    "        my_tab = pd.crosstab(index=consumer_list, columns=\"count\") # Calculate the cell count\n",
    "        N0[my_tab.index.values,k] = np.ravel(my_tab.values / scale) # Scale to biomass\n",
    "\n",
    "    # Make data.frame\n",
    "    N0 = pd.DataFrame(N0,index=consumer_index,columns=well_names)\n",
    "    return N0\n",
    "\n",
    "# Compute the distances from the target resource \n",
    "def resource_distance_community_function(plate,R_target,sigma = 0.01): #Sigma is the measurement error\n",
    "    R_tot = plate.R.shape[0]\n",
    "    well_tot = plate.R.shape[1]\n",
    "    relative_resource = np.array(plate.R) #Load plate resource data\n",
    "    relative_resource[0,:]  = 0.0 #Set supplied resource to 0\n",
    "    relative_resource = relative_resource/relative_resource.sum(0)  #Look at relative abundance of remaining resource\n",
    "    R_dist = np.sqrt(np.sum(np.array((np.tile(R_target,(well_tot,1)) - relative_resource.T)**2)[:,1:],axis=1))\n",
    "    return (np.array(R_dist.T)* -1) * (1+ np.random.normal(0,sigma,well_tot))#(so we select for positive community function)\n",
    "\n",
    "\n",
    "def mixing_matrix(n_wells,n_mix):\n",
    "    '''Generates a transfer matrix with the following  rule every community is transfered to itself and combined with \n",
    "    n_mix other randomly chosen communities. Mixing is done in equal proportions '''\n",
    "    TM = np.eye(n_wells)\n",
    "    for i in range(0,np.shape(TM)[0]):\n",
    "        r = np.random.choice(np.arange(0,np.shape(TM)[1]-1),n_mix,replace=False)\n",
    "        for j in r:\n",
    "            if j < i:\n",
    "                TM[i,j] = 1\n",
    "            else:\n",
    "                TM[i,j+1]  = 1\n",
    "    return(TM/(n_mix+1))\n",
    "\n",
    "# Plot community function as a function of time    \n",
    "def plot_community_function(function_df):\n",
    "    import matplotlib.pyplot as plt\n",
    "    #function_df\n",
    "    time = range(0, len(function_df))\n",
    "    plt.plot(time,function_df,'ko', markersize=2)\n",
    "    ax = plt.gca()\n",
    "    ax.set_xlabel(\"transfer\")\n",
    "    ax.set_ylabel(\"Community function\")\n",
    "    plt.show()\n",
    "\n"
   ]
  },
  {
   "cell_type": "markdown",
   "metadata": {},
   "source": [
    "## Default Paramaters\n",
    "\n",
    "To start with we will initalize the paramaters for the system. This section contains the default paramaters\n",
    "for the simulations. I do not expect you guys to changes these. "
   ]
  },
  {
   "cell_type": "code",
   "execution_count": 3,
   "metadata": {},
   "outputs": [],
   "source": [
    "###### Default Paramater values taken from the package \n",
    "# NB changing the values here will not change the results of the simultions you need to an equals sign and to \n",
    "# Over\n",
    "\n",
    "sampling:'Binary' #{'Gaussian','Binary','Gamma'} specifies choice of sampling algorithm\n",
    "SA: 60*np.ones(3) #Number of species in each familyMA': 30*np.ones(3), \n",
    "#Number of resources of each type\n",
    "Sgen: 30 #Number of generalist species\n",
    "muc: 10 #Mean sum of consumption rates\n",
    "sigc: 3 #Standard deviation of sum of consumption rates for Gaussian and Gamma models\n",
    "q: 0.0 #Preference strength (0 for generalist and 1 for specialist)\n",
    "c0:0.0 #Sum of background consumption rates in binary model\n",
    "c1:1. #Specific consumption rate in binary model\n",
    "l:0.8 #Leakage fraction\n",
    "fs:0.45 #Fraction of secretion flux with same resource type\n",
    "fw:0.45 #Fraction of secretion flux to 'waste' resource\n",
    "sparsity:0.2 #Effective sparsity of metabolic matrix\n",
    "n_wells:10 #Number of independent wells\n",
    "S:100 #Number of species per well\n",
    "food:0 #index of food source\n",
    "R0_food:1000 #unperturbed fixed point for supplied food\n",
    "regulation:'independent'  #metabolic regulation (see dRdt)\n",
    "response:'type I' #functional response (see dRdt)\n",
    "supply:'off' #resource supply (see dRdt)\n",
    "    \n",
    "\n",
    "### Paramaters that we will overwrite ###\n",
    "n_wells = 24\n",
    "m = 0 #mortality\n",
    "c1 = 1 #Rescale uptake rate part 1. This is needed to avoid numerical errors that slow down the simulations\n",
    "muc = 10 # Rescale uptake part 2\n",
    "scale = 10**6  #scale is a conversion factor specifying the number of individual microbial cells present when N = 1.\n",
    "#Set to 10**6 to avoid numerical errors \n",
    "\n",
    "\n",
    "\n",
    "\n",
    "### Initialize state of the system ###\n",
    "\n",
    "# set up default paramater values\n",
    "assumptions = a_default.copy()\n",
    "assumptions.update({'n_wells' : n_wells,\n",
    "                    'm' : 0,\n",
    "                   'c1' :c1,\n",
    "                   'muc' :muc,\n",
    "                   'response' :'type I'})"
   ]
  },
  {
   "cell_type": "markdown",
   "metadata": {},
   "source": [
    "# Custom paramaters\n",
    "\n",
    "So now lets define the paramaters that we will be manipulating. For this exercise, you should only have to manipulate the pool_id"
   ]
  },
  {
   "cell_type": "code",
   "execution_count": 4,
   "metadata": {},
   "outputs": [],
   "source": [
    "#Paramaters that are specific to the simulations we are running. \n",
    "ng_pre = 10 #Number of transfers\n",
    "ng_post = 10\n",
    "t = 8 #Transfer time \n",
    "d_fac  = 1/125 # Dilution factor(i.e what fraction of the community do we transfer.) at every passage\n",
    "n_inoc =256  #Number of cells sampled from the regional species at start\n",
    "# To do replicates just repeat the simulation with a different pool_id\n",
    "pool_id = 1 # The unique ID for each student, changing this ensures that each of you will perform simulations using \n",
    "# a different species pool. \n"
   ]
  },
  {
   "cell_type": "markdown",
   "metadata": {},
   "source": [
    "# Generate Target Resource distribution\n",
    "\n",
    "This bit of code is used to generate a distribution of resources from which the target resource distribution will be sampled."
   ]
  },
  {
   "cell_type": "code",
   "execution_count": 5,
   "metadata": {},
   "outputs": [],
   "source": [
    "np.random.seed(0) # Global random seed (i.e all participants)\n",
    "init_state = MakeInitialState(assumptions)\n",
    "params = MakeParams(assumptions)\n",
    "# Make plate\n",
    "target_plate = Community(init_state,dynamics,params,parallel=True) # If using mac set parallel to true this speed up your simulations\n",
    "np.random.seed(0) # Global random seed (i.e all participants)\n",
    "target_plate.N = SampleFromPools(target_plate.N,inocula=n_inoc) # Populate the well by sampling from a different species pool S_size determines the number of species in each sub-poool\n",
    "function_df = list() #list of the functions of each community!\n",
    "for i in range(0, ng_pre):\n",
    "    target_plate.Propagate(t)\n",
    "    TM = np.eye(n_wells)*d_fac  #Generate transfer matrix (in this case we are just transfering like to like so it's the identiy matrix *dilution factor)        \n",
    "    target_plate.Passage(TM)\n",
    "target_plate.Propagate(t)\n",
    "Target_distribution = np.array(target_plate.R.T)[:,1:].flatten()\n",
    "R_tot = target_plate.R.shape[0]\n",
    "well_tot = target_plate.R.shape[1]\n",
    "R_target = np.concatenate([np.zeros(1),np.random.choice(Target_distribution,R_tot-1)])\n",
    "R_target = R_target/np.sum(R_target)"
   ]
  },
  {
   "cell_type": "markdown",
   "metadata": {},
   "source": [
    "# Before Reproduction\n",
    "\n",
    "Set up plate that has some initial variability in function at equilibrium"
   ]
  },
  {
   "cell_type": "code",
   "execution_count": 6,
   "metadata": {
    "scrolled": true
   },
   "outputs": [
    {
     "data": {
      "image/png": "[encoded data removed]",
      "text/plain": [
       "<Figure size 432x288 with 1 Axes>"
      ]
     },
     "metadata": {
      "needs_background": "light"
     },
     "output_type": "display_data"
    }
   ],
   "source": [
    "# Set up\n",
    "np.random.seed(0) # Global random seed (i.e all participants)\n",
    "init_state = MakeInitialState(assumptions)\n",
    "params = MakeParams(assumptions)\n",
    "# Make plate\n",
    "parent_plate = Community(init_state,dynamics,params,parallel=True) # If using mac set parallel to true this speed up your simulations\n",
    "np.random.seed(0) # Global random seed (i.e all participants)\n",
    "parent_plate.N = SampleFromPools(parent_plate.N,inocula=n_inoc) # Populate the well by sampling from a different species pool S_size determines the number of species in each sub-poool\n",
    "pre = list() #list of the functions of each community!\n",
    "for i in range(0,ng_pre):\n",
    "    parent_plate.Propagate(t)\n",
    "    community_function = resource_distance_community_function(parent_plate, R_target = R_target,sigma=0.001)\n",
    "    pre.append(community_function)\n",
    "    TM = np.eye(n_wells)*d_fac  #Generate transfer matrix (in this case we are just transfering like to like so it's the identiy matrix *dilution factor)        \n",
    "    parent_plate.Passage(TM)\n",
    "parent_plate.Propagate(t)\n",
    "plot_community_function(pre)\n"
   ]
  },
  {
   "cell_type": "markdown",
   "metadata": {},
   "source": [
    "Function seems to be uncorrelated to biodiversity at least in small regions"
   ]
  },
  {
   "cell_type": "code",
   "execution_count": 7,
   "metadata": {},
   "outputs": [
    {
     "data": {
      "image/png": "[encoded data removed]",
      "text/plain": [
       "<Figure size 432x288 with 1 Axes>"
      ]
     },
     "metadata": {
      "needs_background": "light"
     },
     "output_type": "display_data"
    }
   ],
   "source": [
    "s = np.array(np.sum(parent_plate.N>0))\n",
    "plt.plot(s,community_function,'ko', markersize=2)\n",
    "ax = plt.gca()\n",
    "ax.set_xlabel(\"species richness\")\n",
    "ax.set_ylabel(\"Community function\")\n",
    "plt.show()"
   ]
  },
  {
   "cell_type": "markdown",
   "metadata": {},
   "source": [
    "# Community  Reproduction - Controls\n",
    "\n",
    "Ok we are going to passage the communities that you have equilibrated using different bottlenecks and migrating different number of cells. To start with we will walk through a few simple examples as a sanity check."
   ]
  },
  {
   "cell_type": "markdown",
   "metadata": {},
   "source": [
    "Let start with a ctrl,We'll use a  high b_ext and no migration. We should end up with the same results as before"
   ]
  },
  {
   "cell_type": "code",
   "execution_count": 8,
   "metadata": {},
   "outputs": [
    {
     "data": {
      "image/png": "[encoded data removed]",
      "text/plain": [
       "<Figure size 432x288 with 1 Axes>"
      ]
     },
     "metadata": {
      "needs_background": "light"
     },
     "output_type": "display_data"
    }
   ],
   "source": [
    "b_ext = 10**6\n",
    "m_ext  = 0\n",
    "rs = 0\n",
    "offspring_plate = parent_plate.copy()\n",
    "np.random.seed(rs)\n",
    "TM = np.eye(n_wells) * b_ext/(np.sum(offspring_plate.N.values,axis = 0) * scale) \n",
    "offspring_plate.Passage(TM)\n",
    "if m_ext >0:\n",
    "    offspring_plate.N =offspring_plate.N + SampleFromPools(parent_plate.N,inocula=m_ext)\n",
    "#Ok now bring back to equilibrium recording function\n",
    "post = list()\n",
    "for i in range(0,ng_post):\n",
    "    offspring_plate.Propagate(t)\n",
    "    community_function = resource_distance_community_function(offspring_plate, R_target = R_target,sigma=0.001)\n",
    "    post.append(community_function)\n",
    "    TM = np.eye(n_wells)*d_fac  #Generate transfer matrix (in this case we are just transfering like to like so it's the identiy matrix *dilution factor)        \n",
    "    offspring_plate.Passage(TM)\n",
    "plot_community_function(post)"
   ]
  },
  {
   "cell_type": "code",
   "execution_count": 9,
   "metadata": {},
   "outputs": [
    {
     "data": {
      "image/png": "[encoded data removed]",
      "text/plain": [
       "<Figure size 432x288 with 1 Axes>"
      ]
     },
     "metadata": {
      "needs_background": "light"
     },
     "output_type": "display_data"
    }
   ],
   "source": [
    "# Extremely high heritability\n",
    "s = np.array(np.sum(parent_plate.N>0))\n",
    "plt.plot(pre[-1],post[-1],'ko', markersize=2)\n",
    "ax = plt.gca()\n",
    "ax.set_xlabel(\"Parent Function\")\n",
    "ax.set_ylabel(\"Offspring function\")\n",
    "plt.show()"
   ]
  },
  {
   "cell_type": "markdown",
   "metadata": {},
   "source": [
    "Let now introduce a really harsh bottleneck. so that only one cell is passaged."
   ]
  },
  {
   "cell_type": "code",
   "execution_count": 10,
   "metadata": {},
   "outputs": [
    {
     "data": {
      "image/png": "[encoded data removed]",
      "text/plain": [
       "<Figure size 432x288 with 1 Axes>"
      ]
     },
     "metadata": {
      "needs_background": "light"
     },
     "output_type": "display_data"
    }
   ],
   "source": [
    "b_ext = 1\n",
    "m_ext  = 0\n",
    "rs = 0\n",
    "offspring_plate = parent_plate.copy()\n",
    "np.random.seed(rs)\n",
    "TM = np.eye(n_wells) * b_ext/(np.sum(offspring_plate.N.values,axis = 0) * scale) \n",
    "offspring_plate.Passage(TM)\n",
    "if m_ext >0:\n",
    "    offspring_plate.N =offspring_plate.N + SampleFromPools(parent_plate.N,inocula=m_ext)\n",
    "#Ok now bring back to equilibrium recording function\n",
    "post = list()\n",
    "for i in range(0,ng_post):\n",
    "    offspring_plate.Propagate(t)\n",
    "    community_function = resource_distance_community_function(offspring_plate, R_target = R_target,sigma=0.001)\n",
    "    post.append(community_function)\n",
    "    TM = np.eye(n_wells)*d_fac  #Generate transfer matrix (in this case we are just transfering like to like so it's the identiy matrix *dilution factor)        \n",
    "    offspring_plate.Passage(TM)\n",
    "plot_community_function(post)"
   ]
  },
  {
   "cell_type": "markdown",
   "metadata": {},
   "source": [
    "Let check the number of species in each well at equilibrium. Given that we only passaged 1 cell this should be at\n",
    "most 1 (which it is)"
   ]
  },
  {
   "cell_type": "code",
   "execution_count": 11,
   "metadata": {},
   "outputs": [
    {
     "data": {
      "text/plain": [
       "W0     12\n",
       "W1     12\n",
       "W2     14\n",
       "W3     16\n",
       "W4     11\n",
       "W5     15\n",
       "W6     15\n",
       "W7     12\n",
       "W8     13\n",
       "W9     14\n",
       "W10    13\n",
       "W11    15\n",
       "W12    14\n",
       "W13    13\n",
       "W14    17\n",
       "W15    17\n",
       "W16    17\n",
       "W17     9\n",
       "W18    10\n",
       "W19    12\n",
       "W20    11\n",
       "W21    11\n",
       "W22    13\n",
       "W23    12\n",
       "dtype: int64"
      ]
     },
     "execution_count": 11,
     "metadata": {},
     "output_type": "execute_result"
    }
   ],
   "source": [
    "np.sum(offspring_plate.N>0) "
   ]
  },
  {
   "cell_type": "code",
   "execution_count": 12,
   "metadata": {},
   "outputs": [
    {
     "data": {
      "image/png": "[encoded data removed]",
      "text/plain": [
       "<Figure size 432x288 with 1 Axes>"
      ]
     },
     "metadata": {
      "needs_background": "light"
     },
     "output_type": "display_data"
    }
   ],
   "source": [
    "# And therefore Low heritability (but still some.)\n",
    "s = np.array(np.sum(parent_plate.N>0))\n",
    "plt.plot(pre[-1],post[-1],'ko', markersize=2)\n",
    "ax = plt.gca()\n",
    "ax.set_xlabel(\"Parent Function\")\n",
    "ax.set_ylabel(\"Offspring function\")\n",
    "plt.show()"
   ]
  },
  {
   "cell_type": "markdown",
   "metadata": {},
   "source": [
    "Now we're going migrate as many cells into the community\n",
    "as we did at the start (from new species pools) and transfer no cells from the parent. This should effectively be a repeat of the initial experiment but with slightly different species pools and samples"
   ]
  },
  {
   "cell_type": "code",
   "execution_count": 13,
   "metadata": {},
   "outputs": [
    {
     "data": {
      "image/png": "[encoded data removed]",
      "text/plain": [
       "<Figure size 432x288 with 1 Axes>"
      ]
     },
     "metadata": {
      "needs_background": "light"
     },
     "output_type": "display_data"
    }
   ],
   "source": [
    "b_ext = 0\n",
    "m_ext  = n_inoc\n",
    "rs  =1 \n",
    "offspring_plate = parent_plate.copy()\n",
    "np.random.seed(rs)\n",
    "TM = np.eye(n_wells) * b_ext/(np.sum(offspring_plate.N.values,axis = 0) * scale) \n",
    "offspring_plate.Passage(TM)\n",
    "if m_ext >0:\n",
    "    offspring_plate.N =offspring_plate.N + SampleFromPools(parent_plate.N,inocula=m_ext)\n",
    "#Ok now bring back to equilibrium recording function\n",
    "post = list()\n",
    "for i in range(0,ng_post):\n",
    "    offspring_plate.Propagate(t)\n",
    "    community_function = resource_distance_community_function(offspring_plate, R_target = R_target,sigma=0.001)\n",
    "    post.append(community_function)\n",
    "    TM = np.eye(n_wells)*d_fac  #Generate transfer matrix (in this case we are just transfering like to like so it's the identiy matrix *dilution factor)        \n",
    "    offspring_plate.Passage(TM)\n",
    "plot_community_function(post)"
   ]
  },
  {
   "cell_type": "code",
   "execution_count": 14,
   "metadata": {},
   "outputs": [
    {
     "data": {
      "image/png": "[encoded data removed]",
      "text/plain": [
       "<Figure size 432x288 with 1 Axes>"
      ]
     },
     "metadata": {
      "needs_background": "light"
     },
     "output_type": "display_data"
    }
   ],
   "source": [
    "# And no heritability the communities are all new. \n",
    "s = np.array(np.sum(parent_plate.N>0))\n",
    "plt.plot(pre[-1],post[-1],'ko', markersize=2)\n",
    "ax = plt.gca()\n",
    "ax.set_xlabel(\"Parent Function\")\n",
    "ax.set_ylabel(\"Offspring function\")\n",
    "plt.show()"
   ]
  },
  {
   "cell_type": "markdown",
   "metadata": {},
   "source": [
    "Now we're going migrate only a single cell into the pool"
   ]
  },
  {
   "cell_type": "code",
   "execution_count": 15,
   "metadata": {},
   "outputs": [
    {
     "name": "stderr",
     "output_type": "stream",
     "text": [
      "/home/jean/anaconda3/lib/python3.7/site-packages/ipykernel_launcher.py:49: RuntimeWarning: invalid value encountered in true_divide\n"
     ]
    },
    {
     "data": {
      "image/png": "[encoded data removed]",
      "text/plain": [
       "<Figure size 432x288 with 1 Axes>"
      ]
     },
     "metadata": {
      "needs_background": "light"
     },
     "output_type": "display_data"
    }
   ],
   "source": [
    "b_ext = 0\n",
    "m_ext  = 1\n",
    "rs  =1 \n",
    "offspring_plate = parent_plate.copy()\n",
    "np.random.seed(rs)\n",
    "TM = np.eye(n_wells) * b_ext/(np.sum(offspring_plate.N.values,axis = 0) * scale) \n",
    "offspring_plate.Passage(TM)\n",
    "if m_ext >0:\n",
    "    offspring_plate.N =offspring_plate.N + SampleFromPools(parent_plate.N,inocula=m_ext)\n",
    "#Ok now bring back to equilibrium recording function\n",
    "post = list()\n",
    "for i in range(0,ng_post):\n",
    "    offspring_plate.Propagate(t)\n",
    "    community_function = resource_distance_community_function(offspring_plate, R_target = R_target,sigma=0.001)\n",
    "    post.append(community_function)\n",
    "    TM = np.eye(n_wells)*d_fac  #Generate transfer matrix (in this case we are just transfering like to like so it's the identiy matrix *dilution factor)        \n",
    "    offspring_plate.Passage(TM)\n",
    "plot_community_function(post)"
   ]
  },
  {
   "cell_type": "code",
   "execution_count": 16,
   "metadata": {},
   "outputs": [
    {
     "data": {
      "image/png": "[encoded data removed]",
      "text/plain": [
       "<Figure size 432x288 with 1 Axes>"
      ]
     },
     "metadata": {
      "needs_background": "light"
     },
     "output_type": "display_data"
    }
   ],
   "source": [
    "# And no heritability at all (in fact in this case most communities show no growth)\n",
    "s = np.array(np.sum(parent_plate.N>0))\n",
    "plt.plot(pre[-1],post[-1],'ko', markersize=2)\n",
    "ax = plt.gca()\n",
    "ax.set_xlabel(\"Parent Function\")\n",
    "ax.set_ylabel(\"Offspring function\")\n",
    "plt.show()"
   ]
  },
  {
   "cell_type": "markdown",
   "metadata": {},
   "source": [
    "Were going to test out the mixing, Lets mix every well with 10 other wells"
   ]
  },
  {
   "cell_type": "code",
   "execution_count": 17,
   "metadata": {},
   "outputs": [
    {
     "data": {
      "image/png": "[encoded data removed]",
      "text/plain": [
       "<Figure size 432x288 with 1 Axes>"
      ]
     },
     "metadata": {
      "needs_background": "light"
     },
     "output_type": "display_data"
    }
   ],
   "source": [
    "b_ext = 10**6\n",
    "m_ext  = 0\n",
    "r_ext = 10\n",
    "rs = 0\n",
    "offspring_plate = parent_plate.copy()\n",
    "np.random.seed(rs)\n",
    "TM2 = mixing_matrix(n_wells,r_ext)\n",
    "offspring_plate.Passage(TM2)\n",
    "\n",
    "TM = np.eye(n_wells) * b_ext/(np.sum(offspring_plate.N.values,axis = 0) * scale)\n",
    "offspring_plate.Passage(TM)\n",
    "if m_ext >0:\n",
    "    offspring_plate.N =offspring_plate.N + SampleFromPools(parent_plate.N,inocula=m_ext)\n",
    "#Ok now bring back to equilibrium recording function\n",
    "post = list()\n",
    "for i in range(0,ng_post):\n",
    "    offspring_plate.Propagate(t)\n",
    "    community_function = resource_distance_community_function(offspring_plate, R_target = R_target,sigma=0.001)\n",
    "    post.append(community_function)\n",
    "    TM = np.eye(n_wells)*d_fac  #Generate transfer matrix (in this case we are just transfering like to like so it's the identiy matrix *dilution factor)        \n",
    "    offspring_plate.Passage(TM)\n",
    "plot_community_function(post)"
   ]
  },
  {
   "cell_type": "code",
   "execution_count": 18,
   "metadata": {},
   "outputs": [
    {
     "data": {
      "image/png": "[encoded data removed]",
      "text/plain": [
       "<Figure size 432x288 with 1 Axes>"
      ]
     },
     "metadata": {
      "needs_background": "light"
     },
     "output_type": "display_data"
    }
   ],
   "source": [
    "# Low Heritability\n",
    "s = np.array(np.sum(parent_plate.N>0))\n",
    "plt.plot(pre[-1],post[-1],'ko', markersize=2)\n",
    "ax = plt.gca()\n",
    "ax.set_xlabel(\"Parent Function\")\n",
    "ax.set_ylabel(\"Offspring function\")\n",
    "plt.show()"
   ]
  },
  {
   "cell_type": "markdown",
   "metadata": {},
   "source": [
    "# The experiment  \n",
    "Ok now lets that we have confirmed that every works lets run many simulations vary an obscence number of paramaters and and save all the data."
   ]
  },
  {
   "cell_type": "markdown",
   "metadata": {},
   "source": [
    "save_df = pd.DataFrame()\n",
    "for rs in range(0,20):\n",
    "    np.random.seed(rs)\n",
    "    for r_ext in [0,1,2,3,4,5,6,7,8,9]:\n",
    "        for m_ext in [0,1,2,4,8,16,32,64,128,256,512,1024]:\n",
    "            for b_ext in [0,1,2,4,8,16,32,64,128,256,512,1024]:\n",
    "                offspring_plate = parent_plate.copy()\n",
    "                if r_ext >0:\n",
    "                    TM2 = mixing_matrix(n_wells,r_ext)\n",
    "                    offspring_plate.Passage(TM2)\n",
    "                TM = np.eye(n_wells) * b_ext/(np.sum(offspring_plate.N.values,axis = 0) * scale) \n",
    "                offspring_plate.Passage(TM)\n",
    "                if m_ext >0:\n",
    "                    offspring_plate.N =offspring_plate.N + SampleFromPools(parent_plate.N,inocula=m_ext)\n",
    "                #Ok now bring back to equilibrium recording function\n",
    "                post = list()\n",
    "                for i in range(0,ng_post):\n",
    "                    offspring_plate.Propagate(t)\n",
    "                    community_function = resource_distance_community_function(offspring_plate, R_target = R_target,sigma=0.01)\n",
    "                    post.append(community_function)\n",
    "                    TM = np.eye(n_wells)*d_fac  #Generate transfer matrix (in this case we are just transfering like to like so it's the identiy matrix *dilution factor)        \n",
    "                    offspring_plate.Passage(TM)\n",
    "                offspring_plate.Propagate(t)\n",
    "                full = pd.DataFrame(pre+post)\n",
    "                full['Timepoint'] = full.index\n",
    "                full = pd.melt(full,id_vars=['Timepoint'], var_name = 'Community_ID',value_name = 'Measured_Function')\n",
    "                full['Pool_Random_Seed']  = pool_id\n",
    "                full['Bottleneck_Size']  = b_ext\n",
    "                full['Migration_Size'] = m_ext\n",
    "                full['Recombination_number'] = r_ext\n",
    "                full['Replicate']  = rs \n",
    "                full['Inoculum Size']  = n_inoc\n",
    "                save_df = save_df.append(full)\n",
    "                save_df.to_csv('Data/Full_Dataset.csv') #\n",
    "            #Saves data each time simulation is done running\n",
    "            #Ok so were going to overnight the nan with the minimum function (I.e the function when there is no community)\n",
    "\n"
   ]
  },
  {
   "cell_type": "code",
   "execution_count": 19,
   "metadata": {},
   "outputs": [],
   "source": [
    "#Ok now lets also the effect of reecombination"
   ]
  }
 ],
 "metadata": {
  "kernelspec": {
   "display_name": "Python 3",
   "language": "python",
   "name": "python3"
  },
  "language_info": {
   "codemirror_mode": {
    "name": "ipython",
    "version": 3
   },
   "file_extension": ".py",
   "mimetype": "text/x-python",
   "name": "python",
   "nbconvert_exporter": "python",
   "pygments_lexer": "ipython3",
   "version": "3.7.3"
  }
 },
 "nbformat": 4,
 "nbformat_minor": 2
}
